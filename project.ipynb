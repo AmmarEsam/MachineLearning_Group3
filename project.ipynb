{
  "cells": [
    {
      "cell_type": "code",
      "execution_count": null,
      "metadata": {
        "id": "CG9NTw9PqOKy"
      },
      "outputs": [],
      "source": [
        "import pandas as pd\n",
        "import numpy as np\n",
        "import missingno\n",
        "import matplotlib.pyplot as plt\n",
        "import seaborn as sns\n",
        "import datetime as dt\n",
        "import re\n"
      ]
    },
    {
      "cell_type": "markdown",
      "metadata": {
        "id": "NBvWYrw0qOK0"
      },
      "source": [
        "### Import Data"
      ]
    },
    {
      "cell_type": "code",
      "execution_count": null,
      "metadata": {
        "id": "_-Sngr-7qOK2",
        "colab": {
          "base_uri": "https://localhost:8080/"
        },
        "outputId": "16d43603-82f1-4ca5-b45f-4d5425219b96"
      },
      "outputs": [
        {
          "output_type": "stream",
          "name": "stderr",
          "text": [
            "<ipython-input-22-fa296f7ac0d5>:1: DtypeWarning: Columns (26) have mixed types. Specify dtype option on import or set low_memory=False.\n",
            "  df = pd.read_csv('train.csv')\n"
          ]
        },
        {
          "output_type": "stream",
          "name": "stdout",
          "text": [
            "<class 'pandas.core.frame.DataFrame'>\n",
            "RangeIndex: 100000 entries, 0 to 99999\n",
            "Data columns (total 28 columns):\n",
            " #   Column                    Non-Null Count   Dtype  \n",
            "---  ------                    --------------   -----  \n",
            " 0   ID                        100000 non-null  object \n",
            " 1   Customer_ID               100000 non-null  object \n",
            " 2   Month                     100000 non-null  object \n",
            " 3   Name                      90015 non-null   object \n",
            " 4   Age                       100000 non-null  object \n",
            " 5   SSN                       100000 non-null  object \n",
            " 6   Occupation                100000 non-null  object \n",
            " 7   Annual_Income             100000 non-null  object \n",
            " 8   Monthly_Inhand_Salary     84998 non-null   float64\n",
            " 9   Num_Bank_Accounts         100000 non-null  int64  \n",
            " 10  Num_Credit_Card           100000 non-null  int64  \n",
            " 11  Interest_Rate             100000 non-null  int64  \n",
            " 12  Num_of_Loan               100000 non-null  object \n",
            " 13  Type_of_Loan              88592 non-null   object \n",
            " 14  Delay_from_due_date       100000 non-null  int64  \n",
            " 15  Num_of_Delayed_Payment    92998 non-null   object \n",
            " 16  Changed_Credit_Limit      100000 non-null  object \n",
            " 17  Num_Credit_Inquiries      98035 non-null   float64\n",
            " 18  Credit_Mix                100000 non-null  object \n",
            " 19  Outstanding_Debt          100000 non-null  object \n",
            " 20  Credit_Utilization_Ratio  100000 non-null  float64\n",
            " 21  Credit_History_Age        90970 non-null   object \n",
            " 22  Payment_of_Min_Amount     100000 non-null  object \n",
            " 23  Total_EMI_per_month       100000 non-null  float64\n",
            " 24  Amount_invested_monthly   95521 non-null   object \n",
            " 25  Payment_Behaviour         100000 non-null  object \n",
            " 26  Monthly_Balance           98800 non-null   object \n",
            " 27  Credit_Score              100000 non-null  object \n",
            "dtypes: float64(4), int64(4), object(20)\n",
            "memory usage: 21.4+ MB\n"
          ]
        }
      ],
      "source": [
        "df = pd.read_csv('train.csv')\n",
        "df.info()\n"
      ]
    },
    {
      "cell_type": "code",
      "execution_count": null,
      "metadata": {
        "id": "FSBvJ3Ae75Zm"
      },
      "outputs": [],
      "source": [
        "# from google.colab import drive\n",
        "# drive.mount('/content/drive')"
      ]
    },
    {
      "cell_type": "code",
      "source": [
        "df.describe()"
      ],
      "metadata": {
        "colab": {
          "base_uri": "https://localhost:8080/",
          "height": 300
        },
        "id": "1dwVSEcMachC",
        "outputId": "fe71af60-801a-43af-8578-eb2a97b25a5f"
      },
      "execution_count": null,
      "outputs": [
        {
          "output_type": "execute_result",
          "data": {
            "text/plain": [
              "       Monthly_Inhand_Salary  Num_Bank_Accounts  Num_Credit_Card  \\\n",
              "count           84998.000000      100000.000000     100000.00000   \n",
              "mean             4194.170850          17.091280         22.47443   \n",
              "std              3183.686167         117.404834        129.05741   \n",
              "min               303.645417          -1.000000          0.00000   \n",
              "25%              1625.568229           3.000000          4.00000   \n",
              "50%              3093.745000           6.000000          5.00000   \n",
              "75%              5957.448333           7.000000          7.00000   \n",
              "max             15204.633333        1798.000000       1499.00000   \n",
              "\n",
              "       Interest_Rate  Delay_from_due_date  Num_Credit_Inquiries  \\\n",
              "count  100000.000000        100000.000000          98035.000000   \n",
              "mean       72.466040            21.068780             27.754251   \n",
              "std       466.422621            14.860104            193.177339   \n",
              "min         1.000000            -5.000000              0.000000   \n",
              "25%         8.000000            10.000000              3.000000   \n",
              "50%        13.000000            18.000000              6.000000   \n",
              "75%        20.000000            28.000000              9.000000   \n",
              "max      5797.000000            67.000000           2597.000000   \n",
              "\n",
              "       Credit_Utilization_Ratio  Total_EMI_per_month  \n",
              "count             100000.000000        100000.000000  \n",
              "mean                  32.285173          1403.118217  \n",
              "std                    5.116875          8306.041270  \n",
              "min                   20.000000             0.000000  \n",
              "25%                   28.052567            30.306660  \n",
              "50%                   32.305784            69.249473  \n",
              "75%                   36.496663           161.224249  \n",
              "max                   50.000000         82331.000000  "
            ],
            "text/html": [
              "\n",
              "\n",
              "  <div id=\"df-912efb4f-5d38-4df5-b678-be742141ce1c\">\n",
              "    <div class=\"colab-df-container\">\n",
              "      <div>\n",
              "<style scoped>\n",
              "    .dataframe tbody tr th:only-of-type {\n",
              "        vertical-align: middle;\n",
              "    }\n",
              "\n",
              "    .dataframe tbody tr th {\n",
              "        vertical-align: top;\n",
              "    }\n",
              "\n",
              "    .dataframe thead th {\n",
              "        text-align: right;\n",
              "    }\n",
              "</style>\n",
              "<table border=\"1\" class=\"dataframe\">\n",
              "  <thead>\n",
              "    <tr style=\"text-align: right;\">\n",
              "      <th></th>\n",
              "      <th>Monthly_Inhand_Salary</th>\n",
              "      <th>Num_Bank_Accounts</th>\n",
              "      <th>Num_Credit_Card</th>\n",
              "      <th>Interest_Rate</th>\n",
              "      <th>Delay_from_due_date</th>\n",
              "      <th>Num_Credit_Inquiries</th>\n",
              "      <th>Credit_Utilization_Ratio</th>\n",
              "      <th>Total_EMI_per_month</th>\n",
              "    </tr>\n",
              "  </thead>\n",
              "  <tbody>\n",
              "    <tr>\n",
              "      <th>count</th>\n",
              "      <td>84998.000000</td>\n",
              "      <td>100000.000000</td>\n",
              "      <td>100000.00000</td>\n",
              "      <td>100000.000000</td>\n",
              "      <td>100000.000000</td>\n",
              "      <td>98035.000000</td>\n",
              "      <td>100000.000000</td>\n",
              "      <td>100000.000000</td>\n",
              "    </tr>\n",
              "    <tr>\n",
              "      <th>mean</th>\n",
              "      <td>4194.170850</td>\n",
              "      <td>17.091280</td>\n",
              "      <td>22.47443</td>\n",
              "      <td>72.466040</td>\n",
              "      <td>21.068780</td>\n",
              "      <td>27.754251</td>\n",
              "      <td>32.285173</td>\n",
              "      <td>1403.118217</td>\n",
              "    </tr>\n",
              "    <tr>\n",
              "      <th>std</th>\n",
              "      <td>3183.686167</td>\n",
              "      <td>117.404834</td>\n",
              "      <td>129.05741</td>\n",
              "      <td>466.422621</td>\n",
              "      <td>14.860104</td>\n",
              "      <td>193.177339</td>\n",
              "      <td>5.116875</td>\n",
              "      <td>8306.041270</td>\n",
              "    </tr>\n",
              "    <tr>\n",
              "      <th>min</th>\n",
              "      <td>303.645417</td>\n",
              "      <td>-1.000000</td>\n",
              "      <td>0.00000</td>\n",
              "      <td>1.000000</td>\n",
              "      <td>-5.000000</td>\n",
              "      <td>0.000000</td>\n",
              "      <td>20.000000</td>\n",
              "      <td>0.000000</td>\n",
              "    </tr>\n",
              "    <tr>\n",
              "      <th>25%</th>\n",
              "      <td>1625.568229</td>\n",
              "      <td>3.000000</td>\n",
              "      <td>4.00000</td>\n",
              "      <td>8.000000</td>\n",
              "      <td>10.000000</td>\n",
              "      <td>3.000000</td>\n",
              "      <td>28.052567</td>\n",
              "      <td>30.306660</td>\n",
              "    </tr>\n",
              "    <tr>\n",
              "      <th>50%</th>\n",
              "      <td>3093.745000</td>\n",
              "      <td>6.000000</td>\n",
              "      <td>5.00000</td>\n",
              "      <td>13.000000</td>\n",
              "      <td>18.000000</td>\n",
              "      <td>6.000000</td>\n",
              "      <td>32.305784</td>\n",
              "      <td>69.249473</td>\n",
              "    </tr>\n",
              "    <tr>\n",
              "      <th>75%</th>\n",
              "      <td>5957.448333</td>\n",
              "      <td>7.000000</td>\n",
              "      <td>7.00000</td>\n",
              "      <td>20.000000</td>\n",
              "      <td>28.000000</td>\n",
              "      <td>9.000000</td>\n",
              "      <td>36.496663</td>\n",
              "      <td>161.224249</td>\n",
              "    </tr>\n",
              "    <tr>\n",
              "      <th>max</th>\n",
              "      <td>15204.633333</td>\n",
              "      <td>1798.000000</td>\n",
              "      <td>1499.00000</td>\n",
              "      <td>5797.000000</td>\n",
              "      <td>67.000000</td>\n",
              "      <td>2597.000000</td>\n",
              "      <td>50.000000</td>\n",
              "      <td>82331.000000</td>\n",
              "    </tr>\n",
              "  </tbody>\n",
              "</table>\n",
              "</div>\n",
              "      <button class=\"colab-df-convert\" onclick=\"convertToInteractive('df-912efb4f-5d38-4df5-b678-be742141ce1c')\"\n",
              "              title=\"Convert this dataframe to an interactive table.\"\n",
              "              style=\"display:none;\">\n",
              "\n",
              "  <svg xmlns=\"http://www.w3.org/2000/svg\" height=\"24px\"viewBox=\"0 0 24 24\"\n",
              "       width=\"24px\">\n",
              "    <path d=\"M0 0h24v24H0V0z\" fill=\"none\"/>\n",
              "    <path d=\"M18.56 5.44l.94 2.06.94-2.06 2.06-.94-2.06-.94-.94-2.06-.94 2.06-2.06.94zm-11 1L8.5 8.5l.94-2.06 2.06-.94-2.06-.94L8.5 2.5l-.94 2.06-2.06.94zm10 10l.94 2.06.94-2.06 2.06-.94-2.06-.94-.94-2.06-.94 2.06-2.06.94z\"/><path d=\"M17.41 7.96l-1.37-1.37c-.4-.4-.92-.59-1.43-.59-.52 0-1.04.2-1.43.59L10.3 9.45l-7.72 7.72c-.78.78-.78 2.05 0 2.83L4 21.41c.39.39.9.59 1.41.59.51 0 1.02-.2 1.41-.59l7.78-7.78 2.81-2.81c.8-.78.8-2.07 0-2.86zM5.41 20L4 18.59l7.72-7.72 1.47 1.35L5.41 20z\"/>\n",
              "  </svg>\n",
              "      </button>\n",
              "\n",
              "\n",
              "\n",
              "    <div id=\"df-c24c9f2e-efde-4fc5-ad3a-32880d5eb56a\">\n",
              "      <button class=\"colab-df-quickchart\" onclick=\"quickchart('df-c24c9f2e-efde-4fc5-ad3a-32880d5eb56a')\"\n",
              "              title=\"Suggest charts.\"\n",
              "              style=\"display:none;\">\n",
              "\n",
              "<svg xmlns=\"http://www.w3.org/2000/svg\" height=\"24px\"viewBox=\"0 0 24 24\"\n",
              "     width=\"24px\">\n",
              "    <g>\n",
              "        <path d=\"M19 3H5c-1.1 0-2 .9-2 2v14c0 1.1.9 2 2 2h14c1.1 0 2-.9 2-2V5c0-1.1-.9-2-2-2zM9 17H7v-7h2v7zm4 0h-2V7h2v10zm4 0h-2v-4h2v4z\"/>\n",
              "    </g>\n",
              "</svg>\n",
              "      </button>\n",
              "    </div>\n",
              "\n",
              "<style>\n",
              "  .colab-df-quickchart {\n",
              "    background-color: #E8F0FE;\n",
              "    border: none;\n",
              "    border-radius: 50%;\n",
              "    cursor: pointer;\n",
              "    display: none;\n",
              "    fill: #1967D2;\n",
              "    height: 32px;\n",
              "    padding: 0 0 0 0;\n",
              "    width: 32px;\n",
              "  }\n",
              "\n",
              "  .colab-df-quickchart:hover {\n",
              "    background-color: #E2EBFA;\n",
              "    box-shadow: 0px 1px 2px rgba(60, 64, 67, 0.3), 0px 1px 3px 1px rgba(60, 64, 67, 0.15);\n",
              "    fill: #174EA6;\n",
              "  }\n",
              "\n",
              "  [theme=dark] .colab-df-quickchart {\n",
              "    background-color: #3B4455;\n",
              "    fill: #D2E3FC;\n",
              "  }\n",
              "\n",
              "  [theme=dark] .colab-df-quickchart:hover {\n",
              "    background-color: #434B5C;\n",
              "    box-shadow: 0px 1px 3px 1px rgba(0, 0, 0, 0.15);\n",
              "    filter: drop-shadow(0px 1px 2px rgba(0, 0, 0, 0.3));\n",
              "    fill: #FFFFFF;\n",
              "  }\n",
              "</style>\n",
              "\n",
              "    <script>\n",
              "      async function quickchart(key) {\n",
              "        const containerElement = document.querySelector('#' + key);\n",
              "        const charts = await google.colab.kernel.invokeFunction(\n",
              "            'suggestCharts', [key], {});\n",
              "      }\n",
              "    </script>\n",
              "\n",
              "      <script>\n",
              "\n",
              "function displayQuickchartButton(domScope) {\n",
              "  let quickchartButtonEl =\n",
              "    domScope.querySelector('#df-c24c9f2e-efde-4fc5-ad3a-32880d5eb56a button.colab-df-quickchart');\n",
              "  quickchartButtonEl.style.display =\n",
              "    google.colab.kernel.accessAllowed ? 'block' : 'none';\n",
              "}\n",
              "\n",
              "        displayQuickchartButton(document);\n",
              "      </script>\n",
              "      <style>\n",
              "    .colab-df-container {\n",
              "      display:flex;\n",
              "      flex-wrap:wrap;\n",
              "      gap: 12px;\n",
              "    }\n",
              "\n",
              "    .colab-df-convert {\n",
              "      background-color: #E8F0FE;\n",
              "      border: none;\n",
              "      border-radius: 50%;\n",
              "      cursor: pointer;\n",
              "      display: none;\n",
              "      fill: #1967D2;\n",
              "      height: 32px;\n",
              "      padding: 0 0 0 0;\n",
              "      width: 32px;\n",
              "    }\n",
              "\n",
              "    .colab-df-convert:hover {\n",
              "      background-color: #E2EBFA;\n",
              "      box-shadow: 0px 1px 2px rgba(60, 64, 67, 0.3), 0px 1px 3px 1px rgba(60, 64, 67, 0.15);\n",
              "      fill: #174EA6;\n",
              "    }\n",
              "\n",
              "    [theme=dark] .colab-df-convert {\n",
              "      background-color: #3B4455;\n",
              "      fill: #D2E3FC;\n",
              "    }\n",
              "\n",
              "    [theme=dark] .colab-df-convert:hover {\n",
              "      background-color: #434B5C;\n",
              "      box-shadow: 0px 1px 3px 1px rgba(0, 0, 0, 0.15);\n",
              "      filter: drop-shadow(0px 1px 2px rgba(0, 0, 0, 0.3));\n",
              "      fill: #FFFFFF;\n",
              "    }\n",
              "  </style>\n",
              "\n",
              "      <script>\n",
              "        const buttonEl =\n",
              "          document.querySelector('#df-912efb4f-5d38-4df5-b678-be742141ce1c button.colab-df-convert');\n",
              "        buttonEl.style.display =\n",
              "          google.colab.kernel.accessAllowed ? 'block' : 'none';\n",
              "\n",
              "        async function convertToInteractive(key) {\n",
              "          const element = document.querySelector('#df-912efb4f-5d38-4df5-b678-be742141ce1c');\n",
              "          const dataTable =\n",
              "            await google.colab.kernel.invokeFunction('convertToInteractive',\n",
              "                                                     [key], {});\n",
              "          if (!dataTable) return;\n",
              "\n",
              "          const docLinkHtml = 'Like what you see? Visit the ' +\n",
              "            '<a target=\"_blank\" href=https://colab.research.google.com/notebooks/data_table.ipynb>data table notebook</a>'\n",
              "            + ' to learn more about interactive tables.';\n",
              "          element.innerHTML = '';\n",
              "          dataTable['output_type'] = 'display_data';\n",
              "          await google.colab.output.renderOutput(dataTable, element);\n",
              "          const docLink = document.createElement('div');\n",
              "          docLink.innerHTML = docLinkHtml;\n",
              "          element.appendChild(docLink);\n",
              "        }\n",
              "      </script>\n",
              "    </div>\n",
              "  </div>\n"
            ]
          },
          "metadata": {},
          "execution_count": 30
        }
      ]
    },
    {
      "cell_type": "code",
      "source": [
        "missingno.matrix(df)"
      ],
      "metadata": {
        "colab": {
          "base_uri": "https://localhost:8080/",
          "height": 927
        },
        "id": "c1Z8NHPv8luN",
        "outputId": "5132b143-4a2e-4fc9-c577-c1285abacd86"
      },
      "execution_count": null,
      "outputs": [
        {
          "output_type": "execute_result",
          "data": {
            "text/plain": [
              "<Axes: >"
            ]
          },
          "metadata": {},
          "execution_count": 23
        },
        {
          "output_type": "display_data",
          "data": {
            "text/plain": [
              "<Figure size 2500x1000 with 2 Axes>"
            ],
            "image/png": "[encoded data removed]"
          },
          "metadata": {}
        }
      ]
    },
    {
      "cell_type": "markdown",
      "metadata": {
        "id": "aZmRWD6rqOK5"
      },
      "source": [
        "Checking ID"
      ]
    },
    {
      "cell_type": "code",
      "execution_count": null,
      "metadata": {
        "id": "0uYVpUxZqOK5"
      },
      "outputs": [],
      "source": [
        "df['ID'].nunique()"
      ]
    },
    {
      "cell_type": "markdown",
      "metadata": {
        "id": "Dywl1RYDqOK6"
      },
      "source": [
        "Checking Month Column"
      ]
    },
    {
      "cell_type": "code",
      "execution_count": null,
      "metadata": {
        "id": "lgNBSeuVqOK6"
      },
      "outputs": [],
      "source": [
        "df['Month'].unique()\n"
      ]
    },
    {
      "cell_type": "markdown",
      "metadata": {
        "id": "-4Gv152QqOK7"
      },
      "source": [
        "Fill the missing value with Unknown"
      ]
    },
    {
      "cell_type": "markdown",
      "metadata": {
        "id": "8BJsuBA7qOK8"
      },
      "source": [
        "Cleaning Age column for test file"
      ]
    },
    {
      "cell_type": "code",
      "execution_count": null,
      "metadata": {
        "id": "meT8GoQYqOK8"
      },
      "outputs": [],
      "source": [
        "df['Age'] = df['Age'].str.replace(r'\\D', '', regex=True).astype(int)\n",
        "\n"
      ]
    },
    {
      "cell_type": "code",
      "execution_count": null,
      "metadata": {
        "id": "bKLPHZ2rqOK8"
      },
      "outputs": [],
      "source": [
        "print(df['Age'])"
      ]
    },
    {
      "cell_type": "code",
      "execution_count": null,
      "metadata": {
        "id": "g_BNF7NCqOK8"
      },
      "outputs": [],
      "source": [
        "df['Age'] = df['Age'].apply(lambda x: x if x >= 0  else pd.NA)\n",
        "df['Age'] = df['Age'].apply(lambda x: x if x <= 100 else pd.NA)\n",
        "has_nan = df['Age'].isna().any()\n",
        "\n",
        "if has_nan:\n",
        "    print(\"The 'Age' column has NaN values.\")\n",
        "else:\n",
        "    print(\"The 'Age' column does not have any NaN values.\")\n"
      ]
    },
    {
      "cell_type": "code",
      "execution_count": null,
      "metadata": {
        "id": "l1MTQMa_qOK-"
      },
      "outputs": [],
      "source": [
        "(df['Age'] > 100).sum()"
      ]
    },
    {
      "cell_type": "code",
      "execution_count": null,
      "metadata": {
        "id": "j-kW_E4_2RHI"
      },
      "outputs": [],
      "source": [
        "\n",
        "df = df.dropna(subset=[\"Age\"])\n",
        "plt.hist(df[\"Age\"], bins=10, edgecolor='black')\n",
        "plt.xlabel(\"Age\")\n",
        "plt.ylabel(\"Frequency\")\n",
        "plt.title(\"Age Distribution\")\n",
        "plt.show()"
      ]
    },
    {
      "cell_type": "markdown",
      "metadata": {
        "id": "II1WCACMqOK-"
      },
      "source": [
        "Change SSN column for wrong values"
      ]
    },
    {
      "cell_type": "code",
      "execution_count": null,
      "metadata": {
        "id": "iP6TKLXPqOK_"
      },
      "outputs": [],
      "source": [
        "pattern = r'\\d{3}-\\d{2}-\\d{4}'\n",
        "\n",
        "# Clean the 'SSN' column\n",
        "df['SSN'] = df['SSN'].apply(lambda x: x if re.match(pattern, str(x)) else pd.NA)\n"
      ]
    },
    {
      "cell_type": "code",
      "execution_count": null,
      "metadata": {
        "id": "JQ0DmGEvqOK_"
      },
      "outputs": [],
      "source": [
        "#df['SSN'].fillna('Unknown', inplace=True)"
      ]
    },
    {
      "cell_type": "code",
      "execution_count": null,
      "metadata": {
        "id": "exCLMd-8qOK_"
      },
      "outputs": [],
      "source": [
        "# print(df['SSN'][5])"
      ]
    },
    {
      "cell_type": "code",
      "execution_count": null,
      "metadata": {
        "id": "pB9VCktH3U1a"
      },
      "outputs": [],
      "source": [
        "df = df.dropna(subset=[\"Occupation\"])\n",
        "plt.hist(df[\"Occupation\"], bins=20, edgecolor='black')\n",
        "plt.xlabel(\"Occupation\")\n",
        "plt.ylabel(\"Frequency\")\n",
        "plt.title(\"Occupation Distribution\")\n",
        "plt.show()"
      ]
    },
    {
      "cell_type": "markdown",
      "metadata": {
        "id": "JpJvhueaqOLA"
      },
      "source": [
        "replace the wrong value for occupation  "
      ]
    },
    {
      "cell_type": "code",
      "execution_count": null,
      "metadata": {
        "id": "muFSgfUDqOLA"
      },
      "outputs": [],
      "source": [
        "df['Occupation'] = df['Occupation'].str.replace('[^a-zA-Z\\s]', '', regex=True)\n",
        "df['Occupation'] = df['Occupation'].replace('', np.nan)\n"
      ]
    },
    {
      "cell_type": "code",
      "execution_count": null,
      "metadata": {
        "id": "0Z5YBD50qOLB"
      },
      "outputs": [],
      "source": [
        "#df['Occupation'].fillna('Unknown', inplace=True)\n"
      ]
    },
    {
      "cell_type": "code",
      "execution_count": null,
      "metadata": {
        "id": "LKxEQL7vqOLB"
      },
      "outputs": [],
      "source": [
        "no_integers = not df['Month'].astype(str).str.isnumeric().any()\n",
        "\n",
        "if no_integers:\n",
        "    print(\"There are no integer values in the 'Occupation' column.\")\n",
        "else:\n",
        "    print(\"There are integer values in the 'Occupation' column.\")\n"
      ]
    },
    {
      "cell_type": "code",
      "execution_count": null,
      "metadata": {
        "id": "Q8OmEdh8qOLB"
      },
      "outputs": [],
      "source": [
        "print(df['Occupation'][4])"
      ]
    },
    {
      "cell_type": "code",
      "execution_count": null,
      "metadata": {
        "id": "6Nau5gd3qOLB"
      },
      "outputs": [],
      "source": [
        "df.sort_values(by=['Customer_ID'], inplace=True, ascending=False)\n"
      ]
    },
    {
      "cell_type": "code",
      "execution_count": null,
      "metadata": {
        "id": "eugontYEqOLC"
      },
      "outputs": [],
      "source": [
        "df = df.ffill(axis='rows')\n"
      ]
    },
    {
      "cell_type": "code",
      "execution_count": null,
      "metadata": {
        "id": "oCG386BlqOLC"
      },
      "outputs": [],
      "source": [
        "d = {'January':1, 'February':2, 'March':3, 'April':4 , 'May':5, 'June':6 , 'July':7, 'August':8, 'September':9, 'October':10, 'November':11, 'December':12}\n",
        "\n",
        "df['Month'] = df['Month'].map(d)\n"
      ]
    },
    {
      "cell_type": "code",
      "execution_count": null,
      "metadata": {
        "id": "tAUvBaI1qOLC"
      },
      "outputs": [],
      "source": [
        "df['Occupation'].unique()"
      ]
    },
    {
      "cell_type": "code",
      "execution_count": null,
      "metadata": {
        "id": "zNif4qMaqOLC"
      },
      "outputs": [],
      "source": [
        "df['Occupation'].replace(['Scientist', 'Musician', 'Doctor', 'Entrepreneur', 'Manager',\n",
        "                          'Writer', 'MediaManager', 'Mechanic', 'Teacher', 'Architect',\n",
        "                          'Accountant', 'Lawyer', 'Engineer', 'Developer', 'Journalist'],\n",
        "                        [1,2,3,4,5,6,7,8,9,10,11,12,13,14,15], inplace=True)\n"
      ]
    },
    {
      "cell_type": "code",
      "execution_count": null,
      "metadata": {
        "id": "dgZg7FZXfSVW"
      },
      "outputs": [],
      "source": [
        "df['Occupation'].unique()"
      ]
    },
    {
      "cell_type": "code",
      "execution_count": null,
      "metadata": {
        "id": "GPrpQLHOqOLD"
      },
      "outputs": [],
      "source": [
        "df.info()\n"
      ]
    },
    {
      "cell_type": "markdown",
      "metadata": {
        "id": "VUjayonE2uxv"
      },
      "source": []
    },
    {
      "cell_type": "markdown",
      "metadata": {
        "id": "IU6zU7hm2xoH"
      },
      "source": [
        "'Annual_Income', 'Monthly_Inhand_Salary', 'Num_Bank_Accounts', 'Num_Credit_Card', 'Interest_Rate', 'Num_of_Loan', 'Type_of_Loan'"
      ]
    },
    {
      "cell_type": "code",
      "execution_count": null,
      "metadata": {
        "id": "vWUaJjJa30pT"
      },
      "outputs": [],
      "source": []
    },
    {
      "cell_type": "markdown",
      "metadata": {
        "id": "A_nN5wQg-bZ4"
      },
      "source": [
        "Annual_Income"
      ]
    },
    {
      "cell_type": "code",
      "execution_count": null,
      "metadata": {
        "id": "nVjXmTel3HQE"
      },
      "outputs": [],
      "source": [
        "na_count = df['Annual_Income'].isna().sum()\n",
        "print(\"Number of NaN values in 'Annual_Income':\", na_count)"
      ]
    },
    {
      "cell_type": "code",
      "execution_count": null,
      "metadata": {
        "id": "5XELrXUT3HNl"
      },
      "outputs": [],
      "source": [
        "df['Annual_Income'].info()"
      ]
    },
    {
      "cell_type": "code",
      "execution_count": null,
      "metadata": {
        "id": "9yYhYsKO3HKx"
      },
      "outputs": [],
      "source": [
        "df['Annual_Income'] = df['Annual_Income'].str.replace('_', '')\n",
        "df['Annual_Income'] = df['Annual_Income'].astype(float)"
      ]
    },
    {
      "cell_type": "code",
      "execution_count": null,
      "metadata": {
        "id": "ORXpFmQI3HIA"
      },
      "outputs": [],
      "source": [
        "df['Annual_Income'].info()"
      ]
    },
    {
      "cell_type": "code",
      "execution_count": null,
      "metadata": {
        "id": "ncmQY7iy3HEm"
      },
      "outputs": [],
      "source": [
        "unique_count = df['Annual_Income'].nunique()\n",
        "print(\"Number of unique values in 'Annual_Income':\", unique_count)"
      ]
    },
    {
      "cell_type": "code",
      "execution_count": null,
      "metadata": {
        "id": "rtrHYRYT3HAp"
      },
      "outputs": [],
      "source": [
        "df['Annual_Income'].describe()"
      ]
    },
    {
      "cell_type": "markdown",
      "metadata": {
        "id": "uNcRRwdJ4_Jp"
      },
      "source": [
        "Monthly_Inhand_Salary"
      ]
    },
    {
      "cell_type": "code",
      "execution_count": null,
      "metadata": {
        "id": "txWU3SEe3Gcc"
      },
      "outputs": [],
      "source": [
        "na_count = df['Monthly_Inhand_Salary'].isna().sum()\n",
        "print(\"Number of NaN values in 'Annual_Income':\", na_count)"
      ]
    },
    {
      "cell_type": "code",
      "execution_count": null,
      "metadata": {
        "id": "QkqtVI_s5EBM"
      },
      "outputs": [],
      "source": [
        "df['Monthly_Inhand_Salary'].info()"
      ]
    },
    {
      "cell_type": "code",
      "execution_count": null,
      "metadata": {
        "id": "DhTGRChD5D-m"
      },
      "outputs": [],
      "source": [
        "df['Monthly_Inhand_Salary'].describe()"
      ]
    },
    {
      "cell_type": "code",
      "execution_count": null,
      "metadata": {
        "id": "lYdnrAdh5D8C"
      },
      "outputs": [],
      "source": [
        "df['Monthly_Inhand_Salary'] = df.groupby('Customer_ID')['Monthly_Inhand_Salary'].fillna(method='ffill')"
      ]
    },
    {
      "cell_type": "code",
      "execution_count": null,
      "metadata": {
        "id": "vRoYD48w5D5n"
      },
      "outputs": [],
      "source": [
        "na_count = df['Monthly_Inhand_Salary'].isna().sum()\n",
        "print(\"Number of NaN values in 'Annual_Income':\", na_count)"
      ]
    },
    {
      "cell_type": "code",
      "execution_count": null,
      "metadata": {
        "id": "ne1o46Xw5D22"
      },
      "outputs": [],
      "source": [
        "df['Monthly_Inhand_Salary'] = df['Monthly_Inhand_Salary'].fillna(df.groupby('Customer_ID')['Monthly_Inhand_Salary'].transform('mean'))"
      ]
    },
    {
      "cell_type": "code",
      "execution_count": null,
      "metadata": {
        "id": "m-fP2T785Dz_"
      },
      "outputs": [],
      "source": [
        "na_count = df['Monthly_Inhand_Salary'].isna().sum()\n",
        "print(\"Number of NaN values in 'Monthly_Inhand_Salary':\", na_count)"
      ]
    },
    {
      "cell_type": "code",
      "execution_count": null,
      "metadata": {
        "id": "HtZh_Ye029yg"
      },
      "outputs": [],
      "source": [
        "df['Monthly_Inhand_Salary'].describe()"
      ]
    },
    {
      "cell_type": "markdown",
      "metadata": {
        "id": "6rnSV2Va5a9F"
      },
      "source": [
        "Num_Bank_Accounts"
      ]
    },
    {
      "cell_type": "code",
      "execution_count": null,
      "metadata": {
        "id": "82WBe6dS5au_"
      },
      "outputs": [],
      "source": [
        "na_count = df['Num_Bank_Accounts'].isna().sum()\n",
        "print(\"Number of NaN values in 'Num_Bank_Accounts':\", na_count)"
      ]
    },
    {
      "cell_type": "code",
      "execution_count": null,
      "metadata": {
        "id": "PNqbE-2nS0pb"
      },
      "outputs": [],
      "source": []
    },
    {
      "cell_type": "code",
      "execution_count": null,
      "metadata": {
        "id": "N_AtW_UB5asP"
      },
      "outputs": [],
      "source": [
        "df['Num_Bank_Accounts'].info()"
      ]
    },
    {
      "cell_type": "code",
      "execution_count": null,
      "metadata": {
        "id": "0X-ZN3P85apn"
      },
      "outputs": [],
      "source": [
        "df['Num_Bank_Accounts'].describe()"
      ]
    },
    {
      "cell_type": "code",
      "execution_count": null,
      "metadata": {
        "id": "r4yUOINQ5amb"
      },
      "outputs": [],
      "source": [
        "df['Num_Bank_Accounts'].median()"
      ]
    },
    {
      "cell_type": "code",
      "execution_count": null,
      "metadata": {
        "id": "-G1czKny5aZD"
      },
      "outputs": [],
      "source": [
        "# I have checked -1 values in the data base and decided to change it to 0"
      ]
    },
    {
      "cell_type": "code",
      "execution_count": null,
      "metadata": {
        "id": "VlpxneF85r5d"
      },
      "outputs": [],
      "source": [
        "df.loc[df['Num_Bank_Accounts'] < 0, 'Num_Bank_Accounts'] = 0"
      ]
    },
    {
      "cell_type": "code",
      "execution_count": null,
      "metadata": {
        "id": "TmUMkkz85r3C"
      },
      "outputs": [],
      "source": [
        "df['Num_Bank_Accounts'].describe()"
      ]
    },
    {
      "cell_type": "code",
      "execution_count": null,
      "metadata": {
        "id": "SCu40V5l5rzi"
      },
      "outputs": [],
      "source": [
        "df['Num_Bank_Accounts'] = df.groupby('Customer_ID')['Num_Bank_Accounts'].transform('median')"
      ]
    },
    {
      "cell_type": "code",
      "execution_count": null,
      "metadata": {
        "id": "IKGH3sLs5rwT"
      },
      "outputs": [],
      "source": [
        "df['Num_Bank_Accounts'] = df['Num_Bank_Accounts'].astype(int)"
      ]
    },
    {
      "cell_type": "code",
      "execution_count": null,
      "metadata": {
        "id": "CQ-2En4D54J2"
      },
      "outputs": [],
      "source": [
        "plt.hist(df['Num_Bank_Accounts'], bins=15)\n",
        "plt.xlabel('Num_Bank_Accounts')\n",
        "plt.ylabel('Frequency')\n",
        "plt.title('Histogram of Num Bank Account')\n",
        "plt.show()"
      ]
    },
    {
      "cell_type": "markdown",
      "metadata": {
        "id": "R1uBNCAq6CEV"
      },
      "source": [
        "Num_Credit_Card"
      ]
    },
    {
      "cell_type": "code",
      "execution_count": null,
      "metadata": {
        "id": "REcS9io954HE"
      },
      "outputs": [],
      "source": [
        "na_count = df['Num_Credit_Card'].isna().sum()\n",
        "print(\"Number of NaN values in 'Num_Credit_Card':\", na_count)"
      ]
    },
    {
      "cell_type": "code",
      "execution_count": null,
      "metadata": {
        "id": "wY9yw2ca54Eg"
      },
      "outputs": [],
      "source": [
        "df['Num_Credit_Card'].info()"
      ]
    },
    {
      "cell_type": "code",
      "execution_count": null,
      "metadata": {
        "id": "kI07rphh54Ck"
      },
      "outputs": [],
      "source": [
        "df['Num_Credit_Card'].describe()"
      ]
    },
    {
      "cell_type": "code",
      "execution_count": null,
      "metadata": {
        "id": "KFoIx2wD53_b"
      },
      "outputs": [],
      "source": [
        "df['Num_Credit_Card'] = df.groupby('Customer_ID')['Num_Credit_Card'].transform('median')"
      ]
    },
    {
      "cell_type": "code",
      "execution_count": null,
      "metadata": {
        "id": "fDRqmde9538u"
      },
      "outputs": [],
      "source": [
        "df['Num_Credit_Card'] = df['Num_Credit_Card'].astype(int)"
      ]
    },
    {
      "cell_type": "code",
      "execution_count": null,
      "metadata": {
        "id": "EYzZ0ils5353"
      },
      "outputs": [],
      "source": [
        "df['Num_Credit_Card'].describe()"
      ]
    },
    {
      "cell_type": "code",
      "execution_count": null,
      "metadata": {
        "id": "FX-dbLb4533C",
        "colab": {
          "base_uri": "https://localhost:8080/",
          "height": 472
        },
        "outputId": "a8a33247-790b-41db-b20f-15d669c4342c"
      },
      "outputs": [
        {
          "output_type": "display_data",
          "data": {
            "text/plain": [
              "<Figure size 640x480 with 1 Axes>"
            ],
            "image/png": "[encoded data removed]"
          },
          "metadata": {}
        }
      ],
      "source": [
        "plt.hist(df['Num_Credit_Card'], bins=20)\n",
        "plt.xlabel('Num_Credit_Card')\n",
        "plt.ylabel('Frequency')\n",
        "plt.title('Histogram of Num Credit Card')\n",
        "plt.show()"
      ]
    },
    {
      "cell_type": "markdown",
      "metadata": {
        "id": "5LxbyERj6dXt"
      },
      "source": [
        "Interest_Rate"
      ]
    },
    {
      "cell_type": "code",
      "execution_count": null,
      "metadata": {
        "id": "KzPY9W4i6dJL"
      },
      "outputs": [],
      "source": [
        "na_count = df['Interest_Rate'].isna().sum()\n",
        "print(\"Number of NaN values in 'Interest_Rate':\", na_count)"
      ]
    },
    {
      "cell_type": "code",
      "execution_count": null,
      "metadata": {
        "id": "4TDIJ9px6dGg"
      },
      "outputs": [],
      "source": [
        "df['Interest_Rate'].info()"
      ]
    },
    {
      "cell_type": "code",
      "execution_count": null,
      "metadata": {
        "id": "cWuJ7hcW6dDz"
      },
      "outputs": [],
      "source": [
        "df['Interest_Rate'].describe()"
      ]
    },
    {
      "cell_type": "code",
      "execution_count": null,
      "metadata": {
        "id": "ZNeHXqlE6dBR"
      },
      "outputs": [],
      "source": [
        "df['Interest_Rate'].median()"
      ]
    },
    {
      "cell_type": "code",
      "execution_count": null,
      "metadata": {
        "id": "Qb2g0SnW6c_K"
      },
      "outputs": [],
      "source": [
        "df['Interest_Rate'] = df.groupby('Customer_ID')['Interest_Rate'].transform('median')"
      ]
    },
    {
      "cell_type": "code",
      "execution_count": null,
      "metadata": {
        "id": "xDvevhFy6c8P"
      },
      "outputs": [],
      "source": [
        "df['Interest_Rate'].describe()"
      ]
    },
    {
      "cell_type": "code",
      "execution_count": null,
      "metadata": {
        "id": "EQyo1JvR6c50"
      },
      "outputs": [],
      "source": [
        "plt.hist(df['Interest_Rate'], bins=20)\n",
        "plt.xlabel('Interest Rate')\n",
        "plt.ylabel('Frequency')\n",
        "plt.title('Histogram of Interest Rate')\n",
        "plt.show()"
      ]
    },
    {
      "cell_type": "markdown",
      "metadata": {
        "id": "8Tak22v06zq7"
      },
      "source": [
        "Num_of_Loan"
      ]
    },
    {
      "cell_type": "code",
      "execution_count": null,
      "metadata": {
        "id": "GPvO0Ksw6c3G"
      },
      "outputs": [],
      "source": [
        "na_count = df['Num_of_Loan'].isna().sum()\n",
        "print(\"Number of NaN values in 'Num_of_Loan':\", na_count)"
      ]
    },
    {
      "cell_type": "code",
      "execution_count": null,
      "metadata": {
        "id": "MQ6x7JvH6c1P"
      },
      "outputs": [],
      "source": [
        "df['Num_of_Loan'].info()"
      ]
    },
    {
      "cell_type": "code",
      "execution_count": null,
      "metadata": {
        "id": "-USKsk7M6cyD"
      },
      "outputs": [],
      "source": [
        "df['Num_of_Loan'] = df['Num_of_Loan'].str.replace('_', '')"
      ]
    },
    {
      "cell_type": "code",
      "execution_count": null,
      "metadata": {
        "id": "ZuH1th7e6cvL"
      },
      "outputs": [],
      "source": [
        "df['Num_of_Loan'] = df['Num_of_Loan'].astype(float)"
      ]
    },
    {
      "cell_type": "code",
      "execution_count": null,
      "metadata": {
        "id": "qXlzvi8P7B3s"
      },
      "outputs": [],
      "source": [
        "df['Num_of_Loan'].info()"
      ]
    },
    {
      "cell_type": "code",
      "execution_count": null,
      "metadata": {
        "id": "35OgTxV37B1r"
      },
      "outputs": [],
      "source": [
        "df['Num_of_Loan'].describe()"
      ]
    },
    {
      "cell_type": "code",
      "execution_count": null,
      "metadata": {
        "id": "cHu-ab057Bv-"
      },
      "outputs": [],
      "source": [
        "df['Num_of_Loan'] = df.groupby('Customer_ID')['Num_of_Loan'].transform('median')"
      ]
    },
    {
      "cell_type": "code",
      "execution_count": null,
      "metadata": {
        "id": "93JhftEw7BtY"
      },
      "outputs": [],
      "source": [
        "df['Num_of_Loan'] = df['Num_of_Loan'].astype(int)"
      ]
    },
    {
      "cell_type": "code",
      "execution_count": null,
      "metadata": {
        "id": "5AqoyB1g7Bq0"
      },
      "outputs": [],
      "source": [
        "df['Num_of_Loan'].describe()"
      ]
    },
    {
      "cell_type": "markdown",
      "metadata": {
        "id": "A6ddRNGt7Rgr"
      },
      "source": [
        "Type_of_Loan"
      ]
    },
    {
      "cell_type": "code",
      "execution_count": null,
      "metadata": {
        "id": "A5floPXB7BoK"
      },
      "outputs": [],
      "source": [
        "df['Auto_Loan_Dummy'] = df['Type_of_Loan'].apply(lambda x: 1 if isinstance(x, str) and ('Auto Loan' in x or 'AutoLoan' in x) else 0)\n",
        "df['Auto_Loan_Dummy'] = df['Auto_Loan_Dummy'].fillna(0).astype(int)"
      ]
    },
    {
      "cell_type": "code",
      "execution_count": null,
      "metadata": {
        "id": "7uCTmfW37Bln"
      },
      "outputs": [],
      "source": [
        "df['Credit_Builder_Loan_Dummy'] = df['Type_of_Loan'].apply(lambda x: 1 if isinstance(x, str) and ('Credit-Builder Loan' in x or 'Credit-BuilderLoan' in x) else 0)\n",
        "df['Credit_Builder_Loan_Dummy'] = df['Credit_Builder_Loan_Dummy'].fillna(0).astype(int)"
      ]
    },
    {
      "cell_type": "code",
      "execution_count": null,
      "metadata": {
        "id": "9IyWHTmg7Bi_"
      },
      "outputs": [],
      "source": [
        "df['Debt_Consolidation_Loan_Dummy'] = df['Type_of_Loan'].apply(lambda x: 1 if isinstance(x, str) and ('Debt Consolidation Loan' in x or 'DebtConsolidationLoan' in x) else 0)\n",
        "df['Debt_Consolidation_Loan_Dummy'] = df['Debt_Consolidation_Loan_Dummy'].fillna(0).astype(int)"
      ]
    },
    {
      "cell_type": "code",
      "execution_count": null,
      "metadata": {
        "id": "YzBOA5CY7g9i"
      },
      "outputs": [],
      "source": [
        "df['Home_Equity_Loan_Dummy'] = df['Type_of_Loan'].apply(lambda x: 1 if isinstance(x, str) and ('Home Equity Loan' in x or 'HomeEquityLoan' in x) else 0)\n",
        "df['Home_Equity_Loan_Dummy'] = df['Home_Equity_Loan_Dummy'].fillna(0).astype(int)"
      ]
    },
    {
      "cell_type": "code",
      "execution_count": null,
      "metadata": {
        "id": "uDv1W4FE7gXt"
      },
      "outputs": [],
      "source": [
        "df['Mortgage_Loan_Dummy'] = df['Type_of_Loan'].apply(lambda x: 1 if isinstance(x, str) and ('Mortgage Loan' in x or 'MortgageLoan' in x) else 0)\n",
        "df['Mortgage_Loan_Dummy'] = df['Mortgage_Loan_Dummy'].fillna(0).astype(int)"
      ]
    },
    {
      "cell_type": "code",
      "execution_count": null,
      "metadata": {
        "id": "tyr40KhM7gSS"
      },
      "outputs": [],
      "source": [
        "df['Not_Specified_Dummy'] = df['Type_of_Loan'].apply(lambda x: 1 if isinstance(x, str) and ('Not Specified' in x or 'NotSpecified' in x) else 0)\n",
        "df['Not_Specified_Dummy'] = df['Not_Specified_Dummy'].fillna(0).astype(int)"
      ]
    },
    {
      "cell_type": "code",
      "execution_count": null,
      "metadata": {
        "id": "qmF_o5Y27gOz"
      },
      "outputs": [],
      "source": [
        "df['Payday_Loan_Dummy'] = df['Type_of_Loan'].apply(lambda x: 1 if isinstance(x, str) and ('Payday Loan' in x or 'PaydayLoan' in x) else 0)\n",
        "df['Payday_Loan_Dummy'] = df['Payday_Loan_Dummy'].fillna(0).astype(int)"
      ]
    },
    {
      "cell_type": "code",
      "execution_count": null,
      "metadata": {
        "id": "8HqU2it87uMP"
      },
      "outputs": [],
      "source": [
        "df['Personal_Loan_Dummy'] = df['Type_of_Loan'].apply(lambda x: 1 if isinstance(x, str) and ('Personal Loan' in x or 'PersonalLoan' in x) else 0)\n",
        "df['Personal_Loan_Dummy'] = df['Personal_Loan_Dummy'].fillna(0).astype(int)"
      ]
    },
    {
      "cell_type": "code",
      "execution_count": null,
      "metadata": {
        "id": "sVCZEFLq7uGA"
      },
      "outputs": [],
      "source": [
        "df['Student_Loan_Dummy'] = df['Type_of_Loan'].apply(lambda x: 1 if isinstance(x, str) and ('Student Loan' in x or 'StudentLoan' in x) else 0)\n",
        "df['Student_Loan_Dummy'] = df['Student_Loan_Dummy'].fillna(0).astype(int)"
      ]
    },
    {
      "cell_type": "code",
      "execution_count": null,
      "metadata": {
        "id": "8sok30tH7t8t",
        "colab": {
          "base_uri": "https://localhost:8080/",
          "height": 337
        },
        "outputId": "e0878ffe-80fe-48da-fafa-9e60fc680fc0"
      },
      "outputs": [
        {
          "output_type": "execute_result",
          "data": {
            "text/plain": [
              "                                        Type_of_Loan  Auto_Loan_Dummy  \\\n",
              "0  Auto Loan, Credit-Builder Loan, Personal Loan,...                1   \n",
              "1  Auto Loan, Credit-Builder Loan, Personal Loan,...                1   \n",
              "2  Auto Loan, Credit-Builder Loan, Personal Loan,...                1   \n",
              "3  Auto Loan, Credit-Builder Loan, Personal Loan,...                1   \n",
              "4  Auto Loan, Credit-Builder Loan, Personal Loan,...                1   \n",
              "\n",
              "   Credit_Builder_Loan_Dummy  Debt_Consolidation_Loan_Dummy  \\\n",
              "0                          1                              0   \n",
              "1                          1                              0   \n",
              "2                          1                              0   \n",
              "3                          1                              0   \n",
              "4                          1                              0   \n",
              "\n",
              "   Home_Equity_Loan_Dummy  Mortgage_Loan_Dummy  Not_Specified_Dummy  \\\n",
              "0                       1                    0                    0   \n",
              "1                       1                    0                    0   \n",
              "2                       1                    0                    0   \n",
              "3                       1                    0                    0   \n",
              "4                       1                    0                    0   \n",
              "\n",
              "   Payday_Loan_Dummy  Personal_Loan_Dummy  Student_Loan_Dummy  \n",
              "0                  0                    1                   0  \n",
              "1                  0                    1                   0  \n",
              "2                  0                    1                   0  \n",
              "3                  0                    1                   0  \n",
              "4                  0                    1                   0  "
            ],
            "text/html": [
              "\n",
              "\n",
              "  <div id=\"df-067c88e8-9c68-40c3-8801-0c7d4aad398c\">\n",
              "    <div class=\"colab-df-container\">\n",
              "      <div>\n",
              "<style scoped>\n",
              "    .dataframe tbody tr th:only-of-type {\n",
              "        vertical-align: middle;\n",
              "    }\n",
              "\n",
              "    .dataframe tbody tr th {\n",
              "        vertical-align: top;\n",
              "    }\n",
              "\n",
              "    .dataframe thead th {\n",
              "        text-align: right;\n",
              "    }\n",
              "</style>\n",
              "<table border=\"1\" class=\"dataframe\">\n",
              "  <thead>\n",
              "    <tr style=\"text-align: right;\">\n",
              "      <th></th>\n",
              "      <th>Type_of_Loan</th>\n",
              "      <th>Auto_Loan_Dummy</th>\n",
              "      <th>Credit_Builder_Loan_Dummy</th>\n",
              "      <th>Debt_Consolidation_Loan_Dummy</th>\n",
              "      <th>Home_Equity_Loan_Dummy</th>\n",
              "      <th>Mortgage_Loan_Dummy</th>\n",
              "      <th>Not_Specified_Dummy</th>\n",
              "      <th>Payday_Loan_Dummy</th>\n",
              "      <th>Personal_Loan_Dummy</th>\n",
              "      <th>Student_Loan_Dummy</th>\n",
              "    </tr>\n",
              "  </thead>\n",
              "  <tbody>\n",
              "    <tr>\n",
              "      <th>0</th>\n",
              "      <td>Auto Loan, Credit-Builder Loan, Personal Loan,...</td>\n",
              "      <td>1</td>\n",
              "      <td>1</td>\n",
              "      <td>0</td>\n",
              "      <td>1</td>\n",
              "      <td>0</td>\n",
              "      <td>0</td>\n",
              "      <td>0</td>\n",
              "      <td>1</td>\n",
              "      <td>0</td>\n",
              "    </tr>\n",
              "    <tr>\n",
              "      <th>1</th>\n",
              "      <td>Auto Loan, Credit-Builder Loan, Personal Loan,...</td>\n",
              "      <td>1</td>\n",
              "      <td>1</td>\n",
              "      <td>0</td>\n",
              "      <td>1</td>\n",
              "      <td>0</td>\n",
              "      <td>0</td>\n",
              "      <td>0</td>\n",
              "      <td>1</td>\n",
              "      <td>0</td>\n",
              "    </tr>\n",
              "    <tr>\n",
              "      <th>2</th>\n",
              "      <td>Auto Loan, Credit-Builder Loan, Personal Loan,...</td>\n",
              "      <td>1</td>\n",
              "      <td>1</td>\n",
              "      <td>0</td>\n",
              "      <td>1</td>\n",
              "      <td>0</td>\n",
              "      <td>0</td>\n",
              "      <td>0</td>\n",
              "      <td>1</td>\n",
              "      <td>0</td>\n",
              "    </tr>\n",
              "    <tr>\n",
              "      <th>3</th>\n",
              "      <td>Auto Loan, Credit-Builder Loan, Personal Loan,...</td>\n",
              "      <td>1</td>\n",
              "      <td>1</td>\n",
              "      <td>0</td>\n",
              "      <td>1</td>\n",
              "      <td>0</td>\n",
              "      <td>0</td>\n",
              "      <td>0</td>\n",
              "      <td>1</td>\n",
              "      <td>0</td>\n",
              "    </tr>\n",
              "    <tr>\n",
              "      <th>4</th>\n",
              "      <td>Auto Loan, Credit-Builder Loan, Personal Loan,...</td>\n",
              "      <td>1</td>\n",
              "      <td>1</td>\n",
              "      <td>0</td>\n",
              "      <td>1</td>\n",
              "      <td>0</td>\n",
              "      <td>0</td>\n",
              "      <td>0</td>\n",
              "      <td>1</td>\n",
              "      <td>0</td>\n",
              "    </tr>\n",
              "  </tbody>\n",
              "</table>\n",
              "</div>\n",
              "      <button class=\"colab-df-convert\" onclick=\"convertToInteractive('df-067c88e8-9c68-40c3-8801-0c7d4aad398c')\"\n",
              "              title=\"Convert this dataframe to an interactive table.\"\n",
              "              style=\"display:none;\">\n",
              "\n",
              "  <svg xmlns=\"http://www.w3.org/2000/svg\" height=\"24px\"viewBox=\"0 0 24 24\"\n",
              "       width=\"24px\">\n",
              "    <path d=\"M0 0h24v24H0V0z\" fill=\"none\"/>\n",
              "    <path d=\"M18.56 5.44l.94 2.06.94-2.06 2.06-.94-2.06-.94-.94-2.06-.94 2.06-2.06.94zm-11 1L8.5 8.5l.94-2.06 2.06-.94-2.06-.94L8.5 2.5l-.94 2.06-2.06.94zm10 10l.94 2.06.94-2.06 2.06-.94-2.06-.94-.94-2.06-.94 2.06-2.06.94z\"/><path d=\"M17.41 7.96l-1.37-1.37c-.4-.4-.92-.59-1.43-.59-.52 0-1.04.2-1.43.59L10.3 9.45l-7.72 7.72c-.78.78-.78 2.05 0 2.83L4 21.41c.39.39.9.59 1.41.59.51 0 1.02-.2 1.41-.59l7.78-7.78 2.81-2.81c.8-.78.8-2.07 0-2.86zM5.41 20L4 18.59l7.72-7.72 1.47 1.35L5.41 20z\"/>\n",
              "  </svg>\n",
              "      </button>\n",
              "\n",
              "\n",
              "\n",
              "    <div id=\"df-ac273830-a281-4e8d-a339-d2ff0474f932\">\n",
              "      <button class=\"colab-df-quickchart\" onclick=\"quickchart('df-ac273830-a281-4e8d-a339-d2ff0474f932')\"\n",
              "              title=\"Suggest charts.\"\n",
              "              style=\"display:none;\">\n",
              "\n",
              "<svg xmlns=\"http://www.w3.org/2000/svg\" height=\"24px\"viewBox=\"0 0 24 24\"\n",
              "     width=\"24px\">\n",
              "    <g>\n",
              "        <path d=\"M19 3H5c-1.1 0-2 .9-2 2v14c0 1.1.9 2 2 2h14c1.1 0 2-.9 2-2V5c0-1.1-.9-2-2-2zM9 17H7v-7h2v7zm4 0h-2V7h2v10zm4 0h-2v-4h2v4z\"/>\n",
              "    </g>\n",
              "</svg>\n",
              "      </button>\n",
              "    </div>\n",
              "\n",
              "<style>\n",
              "  .colab-df-quickchart {\n",
              "    background-color: #E8F0FE;\n",
              "    border: none;\n",
              "    border-radius: 50%;\n",
              "    cursor: pointer;\n",
              "    display: none;\n",
              "    fill: #1967D2;\n",
              "    height: 32px;\n",
              "    padding: 0 0 0 0;\n",
              "    width: 32px;\n",
              "  }\n",
              "\n",
              "  .colab-df-quickchart:hover {\n",
              "    background-color: #E2EBFA;\n",
              "    box-shadow: 0px 1px 2px rgba(60, 64, 67, 0.3), 0px 1px 3px 1px rgba(60, 64, 67, 0.15);\n",
              "    fill: #174EA6;\n",
              "  }\n",
              "\n",
              "  [theme=dark] .colab-df-quickchart {\n",
              "    background-color: #3B4455;\n",
              "    fill: #D2E3FC;\n",
              "  }\n",
              "\n",
              "  [theme=dark] .colab-df-quickchart:hover {\n",
              "    background-color: #434B5C;\n",
              "    box-shadow: 0px 1px 3px 1px rgba(0, 0, 0, 0.15);\n",
              "    filter: drop-shadow(0px 1px 2px rgba(0, 0, 0, 0.3));\n",
              "    fill: #FFFFFF;\n",
              "  }\n",
              "</style>\n",
              "\n",
              "    <script>\n",
              "      async function quickchart(key) {\n",
              "        const containerElement = document.querySelector('#' + key);\n",
              "        const charts = await google.colab.kernel.invokeFunction(\n",
              "            'suggestCharts', [key], {});\n",
              "      }\n",
              "    </script>\n",
              "\n",
              "      <script>\n",
              "\n",
              "function displayQuickchartButton(domScope) {\n",
              "  let quickchartButtonEl =\n",
              "    domScope.querySelector('#df-ac273830-a281-4e8d-a339-d2ff0474f932 button.colab-df-quickchart');\n",
              "  quickchartButtonEl.style.display =\n",
              "    google.colab.kernel.accessAllowed ? 'block' : 'none';\n",
              "}\n",
              "\n",
              "        displayQuickchartButton(document);\n",
              "      </script>\n",
              "      <style>\n",
              "    .colab-df-container {\n",
              "      display:flex;\n",
              "      flex-wrap:wrap;\n",
              "      gap: 12px;\n",
              "    }\n",
              "\n",
              "    .colab-df-convert {\n",
              "      background-color: #E8F0FE;\n",
              "      border: none;\n",
              "      border-radius: 50%;\n",
              "      cursor: pointer;\n",
              "      display: none;\n",
              "      fill: #1967D2;\n",
              "      height: 32px;\n",
              "      padding: 0 0 0 0;\n",
              "      width: 32px;\n",
              "    }\n",
              "\n",
              "    .colab-df-convert:hover {\n",
              "      background-color: #E2EBFA;\n",
              "      box-shadow: 0px 1px 2px rgba(60, 64, 67, 0.3), 0px 1px 3px 1px rgba(60, 64, 67, 0.15);\n",
              "      fill: #174EA6;\n",
              "    }\n",
              "\n",
              "    [theme=dark] .colab-df-convert {\n",
              "      background-color: #3B4455;\n",
              "      fill: #D2E3FC;\n",
              "    }\n",
              "\n",
              "    [theme=dark] .colab-df-convert:hover {\n",
              "      background-color: #434B5C;\n",
              "      box-shadow: 0px 1px 3px 1px rgba(0, 0, 0, 0.15);\n",
              "      filter: drop-shadow(0px 1px 2px rgba(0, 0, 0, 0.3));\n",
              "      fill: #FFFFFF;\n",
              "    }\n",
              "  </style>\n",
              "\n",
              "      <script>\n",
              "        const buttonEl =\n",
              "          document.querySelector('#df-067c88e8-9c68-40c3-8801-0c7d4aad398c button.colab-df-convert');\n",
              "        buttonEl.style.display =\n",
              "          google.colab.kernel.accessAllowed ? 'block' : 'none';\n",
              "\n",
              "        async function convertToInteractive(key) {\n",
              "          const element = document.querySelector('#df-067c88e8-9c68-40c3-8801-0c7d4aad398c');\n",
              "          const dataTable =\n",
              "            await google.colab.kernel.invokeFunction('convertToInteractive',\n",
              "                                                     [key], {});\n",
              "          if (!dataTable) return;\n",
              "\n",
              "          const docLinkHtml = 'Like what you see? Visit the ' +\n",
              "            '<a target=\"_blank\" href=https://colab.research.google.com/notebooks/data_table.ipynb>data table notebook</a>'\n",
              "            + ' to learn more about interactive tables.';\n",
              "          element.innerHTML = '';\n",
              "          dataTable['output_type'] = 'display_data';\n",
              "          await google.colab.output.renderOutput(dataTable, element);\n",
              "          const docLink = document.createElement('div');\n",
              "          docLink.innerHTML = docLinkHtml;\n",
              "          element.appendChild(docLink);\n",
              "        }\n",
              "      </script>\n",
              "    </div>\n",
              "  </div>\n"
            ]
          },
          "metadata": {},
          "execution_count": 19
        }
      ],
      "source": [
        "df[['Type_of_Loan', 'Auto_Loan_Dummy', 'Credit_Builder_Loan_Dummy', 'Debt_Consolidation_Loan_Dummy','Home_Equity_Loan_Dummy', 'Mortgage_Loan_Dummy',\n",
        "    'Not_Specified_Dummy', 'Payday_Loan_Dummy', 'Personal_Loan_Dummy', 'Student_Loan_Dummy']].head()"
      ]
    },
    {
      "cell_type": "markdown",
      "metadata": {
        "id": "EXjAQizMUCRI"
      },
      "source": [
        "Delay_from_due_date\n"
      ]
    },
    {
      "cell_type": "code",
      "execution_count": null,
      "metadata": {
        "id": "7GoyxHarUBs3"
      },
      "outputs": [],
      "source": [
        "# check data type\n",
        "df['Delay_from_due_date'].dtype"
      ]
    },
    {
      "cell_type": "code",
      "execution_count": null,
      "metadata": {
        "id": "jVx00TszUi38"
      },
      "outputs": [],
      "source": [
        "# check logically if any values less than 0\n",
        "(df['Delay_from_due_date'] < 0).sum()"
      ]
    },
    {
      "cell_type": "code",
      "execution_count": null,
      "metadata": {
        "id": "riK5Ms_vUxpl",
        "colab": {
          "base_uri": "https://localhost:8080/",
          "height": 472
        },
        "outputId": "518a055b-52cc-4952-e96a-9278bef7cffc"
      },
      "outputs": [
        {
          "output_type": "display_data",
          "data": {
            "text/plain": [
              "<Figure size 640x480 with 1 Axes>"
            ],
            "image/png": "[encoded data removed]"
          },
          "metadata": {}
        }
      ],
      "source": [
        "df = df.dropna(subset=[\"Delay_from_due_date\"])\n",
        "plt.hist(df[\"Delay_from_due_date\"], bins=10, edgecolor='black')\n",
        "plt.xlabel(\"Delay_from_due_date\")\n",
        "plt.ylabel(\"Frequency\")\n",
        "plt.title(\"Delay_from_due_date Distribution\")\n",
        "plt.show()"
      ]
    },
    {
      "cell_type": "code",
      "execution_count": null,
      "metadata": {
        "id": "Dy-WtI88U818"
      },
      "outputs": [],
      "source": [
        "df['Delay_from_due_date'].describe()"
      ]
    },
    {
      "cell_type": "code",
      "execution_count": null,
      "metadata": {
        "id": "3flPn-2yVZpB"
      },
      "outputs": [],
      "source": [
        "## it must be greater than zero:\n",
        "# removes all the characters other than numbers\n",
        "# convert the integer values to strings before removing\n",
        "df['Delay_from_due_date'] = df['Delay_from_due_date'].astype(str).str.replace(r'\\D', '', regex=True)\n",
        "# convert back to the integer values\n",
        "df['Delay_from_due_date'] = df['Delay_from_due_date'].astype(int)\n",
        "# check if any values less than 0\n",
        "(df['Delay_from_due_date'] < 0).sum()"
      ]
    },
    {
      "cell_type": "code",
      "execution_count": null,
      "metadata": {
        "id": "2CvnjFsoVt-3"
      },
      "outputs": [],
      "source": [
        "# check data type\n",
        "df['Delay_from_due_date'].dtype"
      ]
    },
    {
      "cell_type": "markdown",
      "metadata": {
        "id": "JgsO7x8tV0uR"
      },
      "source": [
        "Num_of_Delayed_Payment\n"
      ]
    },
    {
      "cell_type": "code",
      "execution_count": null,
      "metadata": {
        "id": "5rxiBoxMV1zS"
      },
      "outputs": [],
      "source": [
        "# removes all the characters other than numbers\n",
        "df['Num_of_Delayed_Payment'] = df['Num_of_Delayed_Payment'].str.replace(r'\\D', '', regex=True)\n",
        "# check data type\n",
        "df['Num_of_Delayed_Payment'].dtype"
      ]
    },
    {
      "cell_type": "code",
      "execution_count": null,
      "metadata": {
        "id": "XIEBu3qnWDtb"
      },
      "outputs": [],
      "source": [
        "df['Num_of_Delayed_Payment'].isnull().sum()"
      ]
    },
    {
      "cell_type": "code",
      "execution_count": null,
      "metadata": {
        "id": "QEsI_XFtWNwe"
      },
      "outputs": [],
      "source": [
        "# replace empty strings with NaN values\n",
        "df['Num_of_Delayed_Payment'] = df['Num_of_Delayed_Payment'].replace('', np.nan)\n",
        "df['Num_of_Delayed_Payment'].isnull().sum()"
      ]
    },
    {
      "cell_type": "code",
      "execution_count": null,
      "metadata": {
        "id": "AEgvUeDDWaP4"
      },
      "outputs": [],
      "source": [
        "# missing values are replaced with the corresponding values from the same group Customer_ID.\n",
        "# regardless of their position within the group (forward fill (ffill) and backward fill (bfill)).\n",
        "df['Num_of_Delayed_Payment'] = df.groupby('Customer_ID')['Num_of_Delayed_Payment'].fillna(method='ffill')\n",
        "df['Num_of_Delayed_Payment'] = df.groupby('Customer_ID')['Num_of_Delayed_Payment'].fillna(method='bfill')"
      ]
    },
    {
      "cell_type": "code",
      "execution_count": null,
      "metadata": {
        "id": "tsufatYIWhcn"
      },
      "outputs": [],
      "source": [
        "df['Num_of_Delayed_Payment'] = df['Num_of_Delayed_Payment'].astype('Int64')\n",
        "df['Num_of_Delayed_Payment'].dtype"
      ]
    },
    {
      "cell_type": "code",
      "execution_count": null,
      "metadata": {
        "id": "aiWhrtGTWnkW"
      },
      "outputs": [],
      "source": [
        "df['Num_of_Delayed_Payment'].isnull().sum()"
      ]
    },
    {
      "cell_type": "markdown",
      "metadata": {
        "id": "w2DJRaBJWuGi"
      },
      "source": [
        "Changed_Credit_Limit\n"
      ]
    },
    {
      "cell_type": "code",
      "execution_count": null,
      "metadata": {
        "id": "SEKOFd12WviU"
      },
      "outputs": [],
      "source": [
        "# removes all the characters other than numbers\n",
        "df['Changed_Credit_Limit'] = df['Changed_Credit_Limit'].str.replace(r'\\D', '', regex=True)\n",
        "df['Changed_Credit_Limit'] = df['Changed_Credit_Limit'].replace('', np.nan)"
      ]
    },
    {
      "cell_type": "code",
      "execution_count": null,
      "metadata": {
        "colab": {
          "base_uri": "https://localhost:8080/"
        },
        "id": "uWgiXeabW0af",
        "outputId": "5993e2cf-3963-4e82-cb4d-8cb831828d42"
      },
      "outputs": [
        {
          "data": {
            "text/plain": [
              "dtype('float64')"
            ]
          },
          "execution_count": 167,
          "metadata": {},
          "output_type": "execute_result"
        }
      ],
      "source": [
        "df['Changed_Credit_Limit'] = df['Changed_Credit_Limit'].astype('float')\n",
        "df['Changed_Credit_Limit'].dtype"
      ]
    },
    {
      "cell_type": "code",
      "execution_count": null,
      "metadata": {
        "colab": {
          "base_uri": "https://localhost:8080/"
        },
        "id": "q2_tmqtNW5jf",
        "outputId": "7137be64-9bae-46ef-c393-f270df4d035a"
      },
      "outputs": [
        {
          "data": {
            "text/plain": [
              "2091"
            ]
          },
          "execution_count": 168,
          "metadata": {},
          "output_type": "execute_result"
        }
      ],
      "source": [
        "df['Changed_Credit_Limit'].isnull().sum()"
      ]
    },
    {
      "cell_type": "code",
      "execution_count": null,
      "metadata": {
        "colab": {
          "base_uri": "https://localhost:8080/"
        },
        "id": "vrTuNshsW9KI",
        "outputId": "2fe7ae46-8cbf-4deb-eb78-df7fd6197ef0"
      },
      "outputs": [
        {
          "data": {
            "text/plain": [
              "0"
            ]
          },
          "execution_count": 169,
          "metadata": {},
          "output_type": "execute_result"
        }
      ],
      "source": [
        "# missing values are replaced with the corresponding values from the same group Customer_ID.\n",
        "# regardless of their position within the group (forward fill (ffill) and backward fill (bfill)).\n",
        "df['Changed_Credit_Limit'] = df.groupby('Customer_ID')['Changed_Credit_Limit'].fillna(method='ffill')\n",
        "df['Changed_Credit_Limit'] = df.groupby('Customer_ID')['Changed_Credit_Limit'].fillna(method='bfill')\n",
        "df['Changed_Credit_Limit'].isnull().sum()"
      ]
    },
    {
      "cell_type": "markdown",
      "metadata": {
        "id": "vzUZpfHZXFWn"
      },
      "source": [
        "Num_Credit_Inquiries\n"
      ]
    },
    {
      "cell_type": "code",
      "execution_count": null,
      "metadata": {
        "colab": {
          "base_uri": "https://localhost:8080/"
        },
        "id": "QklDER5KXGXz",
        "outputId": "59e8ccb9-ea13-49c1-87f7-d81399674053"
      },
      "outputs": [
        {
          "data": {
            "text/plain": [
              "1965"
            ]
          },
          "execution_count": 170,
          "metadata": {},
          "output_type": "execute_result"
        }
      ],
      "source": [
        "df['Num_Credit_Inquiries'].isnull().sum()\n"
      ]
    },
    {
      "cell_type": "code",
      "execution_count": null,
      "metadata": {
        "id": "CvLp8ewwXOzU"
      },
      "outputs": [],
      "source": [
        "# removes all the characters other than numbers\n",
        "# convert the integer values to strings before removing\n",
        "df['Num_Credit_Inquiries'] = df['Num_Credit_Inquiries'].astype(str).str.replace(r'\\D', '', regex=True)\n",
        "# replace empty strings with NaN values\n",
        "df['Num_Credit_Inquiries'] = df['Num_Credit_Inquiries'].replace('', np.nan)\n",
        "# convert back to the integer values\n",
        "df['Num_Credit_Inquiries'] = df['Num_Credit_Inquiries'].astype('Int64')\n"
      ]
    },
    {
      "cell_type": "code",
      "execution_count": null,
      "metadata": {
        "colab": {
          "base_uri": "https://localhost:8080/"
        },
        "id": "6c1ybbPCYz7s",
        "outputId": "d40a5439-a81c-40a2-ca8a-b73c41015047"
      },
      "outputs": [
        {
          "data": {
            "text/plain": [
              "1965"
            ]
          },
          "execution_count": 172,
          "metadata": {},
          "output_type": "execute_result"
        }
      ],
      "source": [
        "df['Num_Credit_Inquiries'].isnull().sum()"
      ]
    },
    {
      "cell_type": "code",
      "execution_count": null,
      "metadata": {
        "colab": {
          "base_uri": "https://localhost:8080/"
        },
        "id": "dXGI4ckbY4uB",
        "outputId": "e8460554-d71a-4fde-8fb1-eb5f0e8a5131"
      },
      "outputs": [
        {
          "data": {
            "text/plain": [
              "0"
            ]
          },
          "execution_count": 173,
          "metadata": {},
          "output_type": "execute_result"
        }
      ],
      "source": [
        "# missing values are replaced with the corresponding values from the same group Customer_ID.\n",
        "# regardless of their position within the group (forward fill (ffill) and backward fill (bfill)).\n",
        "df['Num_Credit_Inquiries'] = df.groupby('Customer_ID')['Num_Credit_Inquiries'].fillna(method='ffill')\n",
        "df['Num_Credit_Inquiries'] = df.groupby('Customer_ID')['Num_Credit_Inquiries'].fillna(method='bfill')\n",
        "df['Num_Credit_Inquiries'].isnull().sum()"
      ]
    },
    {
      "cell_type": "markdown",
      "metadata": {
        "id": "YUoK3ysbZmNg"
      },
      "source": [
        "Credit Mix"
      ]
    },
    {
      "cell_type": "code",
      "execution_count": null,
      "metadata": {
        "colab": {
          "base_uri": "https://localhost:8080/"
        },
        "id": "VfY2f30nZnRb",
        "outputId": "7d2f83cd-3969-4be6-b02e-1913b158ba77"
      },
      "outputs": [
        {
          "name": "stdout",
          "output_type": "stream",
          "text": [
            "['' 'Good' 'Standard' 'Bad']\n"
          ]
        }
      ],
      "source": [
        "# removes all the characters other than numbers and letters\n",
        "df['Credit_Mix'] = df['Credit_Mix'].str.replace(r\"[^a-zA-Z0-9]\", \"\",regex=True)\n",
        "#check unique values\n",
        "print(df['Credit_Mix'].unique())"
      ]
    },
    {
      "cell_type": "code",
      "execution_count": null,
      "metadata": {
        "colab": {
          "base_uri": "https://localhost:8080/"
        },
        "id": "NZqu4U6LZu6E",
        "outputId": "8aba827e-4537-4ffe-f8cd-f9e2dc95cb07"
      },
      "outputs": [
        {
          "name": "stdout",
          "output_type": "stream",
          "text": [
            "[nan 'Good' 'Standard' 'Bad']\n"
          ]
        }
      ],
      "source": [
        "# replace empty strings with NaN values\n",
        "df['Credit_Mix'] = df['Credit_Mix'].replace('', np.nan)\n",
        "#check unique values\n",
        "print(df['Credit_Mix'].unique())"
      ]
    },
    {
      "cell_type": "code",
      "execution_count": null,
      "metadata": {
        "colab": {
          "base_uri": "https://localhost:8080/"
        },
        "id": "bWLIE4ldZ1a5",
        "outputId": "8c960aa9-0fb8-4d1b-e858-a76ace9c0146"
      },
      "outputs": [
        {
          "data": {
            "text/plain": [
              "20195"
            ]
          },
          "execution_count": 176,
          "metadata": {},
          "output_type": "execute_result"
        }
      ],
      "source": [
        "#check missing values\n",
        "df['Credit_Mix'].isnull().sum()"
      ]
    },
    {
      "cell_type": "code",
      "execution_count": null,
      "metadata": {
        "id": "FL7smBBQaKHd"
      },
      "outputs": [],
      "source": [
        "# missing values are replaced with the corresponding values from the same group Customer_ID.\n",
        "# regardless of their position within the group (forward fill (ffill) and backward fill (bfill)).\n",
        "df['Credit_Mix'] = df.groupby('Customer_ID')['Credit_Mix'].fillna(method='ffill')\n",
        "df['Credit_Mix'] = df.groupby('Customer_ID')['Credit_Mix'].fillna(method='bfill')"
      ]
    },
    {
      "cell_type": "code",
      "execution_count": null,
      "metadata": {
        "colab": {
          "base_uri": "https://localhost:8080/"
        },
        "id": "WmyOgDQ5aPdC",
        "outputId": "b4575bc5-f2a9-44bb-f035-219f48b6dde8"
      },
      "outputs": [
        {
          "name": "stdout",
          "output_type": "stream",
          "text": [
            "['Good' 'Standard' 'Bad']\n"
          ]
        }
      ],
      "source": [
        "#check unique values\n",
        "print(df['Credit_Mix'].unique())"
      ]
    },
    {
      "cell_type": "code",
      "execution_count": null,
      "metadata": {
        "colab": {
          "base_uri": "https://localhost:8080/"
        },
        "id": "661V7tTGaT9-",
        "outputId": "6a93610d-d0dd-4362-c0b5-2b4e50851d0d"
      },
      "outputs": [
        {
          "data": {
            "text/plain": [
              "0"
            ]
          },
          "execution_count": 179,
          "metadata": {},
          "output_type": "execute_result"
        }
      ],
      "source": [
        "#check missing values\n",
        "df['Credit_Mix'].isnull().sum()"
      ]
    },
    {
      "cell_type": "code",
      "execution_count": null,
      "metadata": {
        "colab": {
          "base_uri": "https://localhost:8080/"
        },
        "id": "wLrChGLlacF0",
        "outputId": "09870bb5-be2f-49b3-a2c1-255085831dfc"
      },
      "outputs": [
        {
          "name": "stdout",
          "output_type": "stream",
          "text": [
            "[3 2 1]\n"
          ]
        }
      ],
      "source": [
        "# Define a dictionary to map the string values to numeric values\n",
        "mapping = {'Bad': 1, 'Standard': 2, 'Good': 3}\n",
        "\n",
        "# Use the map() method to convert the values in the \"Credit_Mix\" column\n",
        "df['Credit_Mix'] = df['Credit_Mix'].map(mapping)\n",
        "\n",
        "#check unique values\n",
        "print(df['Credit_Mix'].unique())\n"
      ]
    },
    {
      "cell_type": "code",
      "execution_count": null,
      "metadata": {
        "colab": {
          "base_uri": "https://localhost:8080/"
        },
        "id": "k3ucadj-arAi",
        "outputId": "decf3d78-722c-4d60-e8dc-231e83ec9378"
      },
      "outputs": [
        {
          "data": {
            "text/plain": [
              "dtype('int64')"
            ]
          },
          "execution_count": 181,
          "metadata": {},
          "output_type": "execute_result"
        }
      ],
      "source": [
        "# # convert to the integer values\n",
        "# df['Credit_Mix'] = df['Credit_Mix'].astype(int)\n",
        "# check data type\n",
        "df['Credit_Mix'].dtype"
      ]
    },
    {
      "cell_type": "markdown",
      "metadata": {
        "id": "c83rBHF7Y-44"
      },
      "source": [
        "Outstanding_Debt   "
      ]
    },
    {
      "cell_type": "code",
      "execution_count": null,
      "metadata": {
        "id": "4-dbpABkZAHn"
      },
      "outputs": [],
      "source": [
        "# removes all the characters other than numbers\n",
        "df['Outstanding_Debt'] = df['Outstanding_Debt'].str.replace(r'\\D', '', regex=True)\n",
        "df['Outstanding_Debt'] = df['Outstanding_Debt'].replace('', np.nan)\n",
        "# convert back to the numetrical values\n",
        "df['Outstanding_Debt'] = df['Outstanding_Debt'].astype(float)"
      ]
    },
    {
      "cell_type": "code",
      "execution_count": null,
      "metadata": {
        "colab": {
          "base_uri": "https://localhost:8080/"
        },
        "id": "2hwusZDGZNsR",
        "outputId": "7b4d2857-a9ec-4950-95c3-6b4dbdb2194f"
      },
      "outputs": [
        {
          "data": {
            "text/plain": [
              "0"
            ]
          },
          "execution_count": 183,
          "metadata": {},
          "output_type": "execute_result"
        }
      ],
      "source": [
        "df['Outstanding_Debt'].isnull().sum()"
      ]
    },
    {
      "cell_type": "markdown",
      "metadata": {
        "id": "NN0Li4R1ZQic"
      },
      "source": [
        "Credit_Utilization_Ratio"
      ]
    },
    {
      "cell_type": "code",
      "execution_count": null,
      "metadata": {
        "colab": {
          "base_uri": "https://localhost:8080/"
        },
        "id": "c1KrKoasZRXg",
        "outputId": "7a786349-99de-4081-9f91-7f68b7e6afc9"
      },
      "outputs": [
        {
          "data": {
            "text/plain": [
              "0"
            ]
          },
          "execution_count": 184,
          "metadata": {},
          "output_type": "execute_result"
        }
      ],
      "source": [
        "# check logically if any values less than 0\n",
        "(df['Credit_Utilization_Ratio'] < 0).sum()"
      ]
    },
    {
      "cell_type": "code",
      "execution_count": null,
      "metadata": {
        "colab": {
          "base_uri": "https://localhost:8080/"
        },
        "id": "yqMiV82QZWTU",
        "outputId": "fdd9e9d7-1e46-4fa0-c4dc-3d5df422fb94"
      },
      "outputs": [
        {
          "data": {
            "text/plain": [
              "0"
            ]
          },
          "execution_count": 185,
          "metadata": {},
          "output_type": "execute_result"
        }
      ],
      "source": [
        "df['Credit_Utilization_Ratio'].isnull().sum()"
      ]
    },
    {
      "cell_type": "code",
      "execution_count": null,
      "metadata": {
        "colab": {
          "base_uri": "https://localhost:8080/"
        },
        "id": "FzJJjDfUa_n5",
        "outputId": "6a42ac46-bcaf-49aa-93b4-972bd9808b15"
      },
      "outputs": [
        {
          "data": {
            "text/plain": [
              "Delay_from_due_date           int64\n",
              "Num_of_Delayed_Payment        Int64\n",
              "Changed_Credit_Limit        float64\n",
              "Num_Credit_Inquiries          Int64\n",
              "Credit_Mix                    int64\n",
              "Outstanding_Debt            float64\n",
              "Credit_Utilization_Ratio    float64\n",
              "dtype: object"
            ]
          },
          "execution_count": 124,
          "metadata": {},
          "output_type": "execute_result"
        }
      ],
      "source": [
        "df[['Delay_from_due_date',\n",
        "         'Num_of_Delayed_Payment',\n",
        "         'Changed_Credit_Limit',\n",
        "         'Num_Credit_Inquiries',\n",
        "         'Credit_Mix',\n",
        "         'Outstanding_Debt',\n",
        "         'Credit_Utilization_Ratio']].dtypes"
      ]
    },
    {
      "cell_type": "code",
      "execution_count": null,
      "metadata": {
        "id": "YfGWmuX6kS51"
      },
      "outputs": [],
      "source": [
        "# df.head()"
      ]
    },
    {
      "cell_type": "code",
      "execution_count": null,
      "metadata": {
        "colab": {
          "base_uri": "https://localhost:8080/",
          "height": 406
        },
        "id": "6ddbux-Pj244",
        "outputId": "69865733-a14b-4c45-f8fb-308607702f19"
      },
      "outputs": [
        {
          "data": {
            "image/png": "[encoded data removed]",
            "text/plain": [
              "<Figure size 640x480 with 1 Axes>"
            ]
          },
          "metadata": {},
          "output_type": "display_data"
        }
      ],
      "source": [
        "plt.pie(df['Credit_Score'].value_counts(), labels=df['Credit_Score'] .value_counts().index,autopct='%.0f%%')\n",
        "plt.show()"
      ]
    },
    {
      "cell_type": "code",
      "execution_count": null,
      "metadata": {
        "id": "iPCKX_iak-4s"
      },
      "outputs": [],
      "source": [
        "# plt.figure(figsize=(20,10))\n",
        "# sns.boxplot(df['Delay_from_due_date'])\n",
        "# plt.xticks(rotation=30)\n",
        "# plt.show()"
      ]
    },
    {
      "cell_type": "code",
      "execution_count": null,
      "metadata": {
        "colab": {
          "base_uri": "https://localhost:8080/",
          "height": 482
        },
        "id": "L4M078UPPNme",
        "outputId": "cd559a21-2d86-497f-a3b8-c9bee31eeacd"
      },
      "outputs": [
        {
          "data": {
            "text/plain": [
              "<Axes: xlabel='Occupation', ylabel='count'>"
            ]
          },
          "execution_count": 130,
          "metadata": {},
          "output_type": "execute_result"
        },
        {
          "data": {
            "image/png": "[encoded data removed]",
            "text/plain": [
              "<Figure size 1000x500 with 1 Axes>"
            ]
          },
          "metadata": {},
          "output_type": "display_data"
        }
      ],
      "source": [
        "fig = plt.figure(figsize= (10,5))\n",
        "sns.countplot(data=df,x=\"Occupation\",hue=\"Credit_Mix\")"
      ]
    },
    {
      "cell_type": "code",
      "execution_count": null,
      "metadata": {
        "colab": {
          "base_uri": "https://localhost:8080/"
        },
        "id": "ELgPcjn8RaF3",
        "outputId": "01ae1f7e-62af-4d42-b47f-38e88d0c008d"
      },
      "outputs": [
        {
          "name": "stdout",
          "output_type": "stream",
          "text": [
            "ID                              0\n",
            "Customer_ID                     0\n",
            "Month                           0\n",
            "Name                         9985\n",
            "Age                             0\n",
            "SSN                             0\n",
            "Occupation                      0\n",
            "Annual_Income                   0\n",
            "Monthly_Inhand_Salary       15002\n",
            "Num_Bank_Accounts               0\n",
            "Num_Credit_Card                 0\n",
            "Interest_Rate                   0\n",
            "Num_of_Loan                     0\n",
            "Type_of_Loan                11408\n",
            "Delay_from_due_date             0\n",
            "Num_of_Delayed_Payment          0\n",
            "Changed_Credit_Limit            0\n",
            "Num_Credit_Inquiries            0\n",
            "Credit_Mix                      0\n",
            "Outstanding_Debt                0\n",
            "Credit_Utilization_Ratio        0\n",
            "Credit_History_Age           9030\n",
            "Payment_of_Min_Amount           0\n",
            "Total_EMI_per_month             0\n",
            "Amount_invested_monthly      4479\n",
            "Payment_Behaviour               0\n",
            "Monthly_Balance              1200\n",
            "Credit_Score                    0\n",
            "dtype: int64\n"
          ]
        }
      ],
      "source": [
        "missing_values = df.isnull().sum()\n",
        "print(missing_values)"
      ]
    },
    {
      "cell_type": "markdown",
      "metadata": {
        "id": "rnjUAZ1DQ41P"
      },
      "source": [
        "Credit_History_Age"
      ]
    },
    {
      "cell_type": "code",
      "execution_count": null,
      "metadata": {
        "colab": {
          "base_uri": "https://localhost:8080/"
        },
        "id": "XIkXaNp4b4lW",
        "outputId": "50411ade-fb01-426e-d151-ecc2964cb909"
      },
      "outputs": [
        {
          "name": "stdout",
          "output_type": "stream",
          "text": [
            "None\n"
          ]
        }
      ],
      "source": [
        "mis = df['Credit_Score'].fillna(df['Credit_Score'].mode()[0], inplace=True)\n",
        "print(mis)"
      ]
    },
    {
      "cell_type": "code",
      "execution_count": null,
      "metadata": {
        "colab": {
          "base_uri": "https://localhost:8080/"
        },
        "id": "BNRs0pGXqscp",
        "outputId": "ee47842b-38fa-4c6a-c0ba-a126abeb7a13"
      },
      "outputs": [
        {
          "name": "stdout",
          "output_type": "stream",
          "text": [
            "99159    18\n",
            "99158    18\n",
            "99157    18\n",
            "99156    18\n",
            "99155    18\n",
            "         ..\n",
            "56755    10\n",
            "56754    10\n",
            "56753    10\n",
            "56752    10\n",
            "56756    10\n",
            "Name: Credit_History_Age, Length: 97224, dtype: int64\n"
          ]
        }
      ],
      "source": [
        "conv = df['Credit_History_Age'] = df['Credit_History_Age'].apply(lambda x: int(re.findall(r'\\d+', str(x))[0]) if re.findall(r'\\d+', str(x)) else None)\n",
        "print(conv)"
      ]
    },
    {
      "cell_type": "code",
      "execution_count": null,
      "metadata": {
        "colab": {
          "base_uri": "https://localhost:8080/"
        },
        "id": "YgmArlRDn19-",
        "outputId": "8ff85a12-01d2-40b5-b93b-89eed61246b1"
      },
      "outputs": [
        {
          "data": {
            "text/plain": [
              "dtype('O')"
            ]
          },
          "execution_count": 189,
          "metadata": {},
          "output_type": "execute_result"
        }
      ],
      "source": [
        "df['Credit_History_Age'].dtype"
      ]
    },
    {
      "cell_type": "markdown",
      "metadata": {
        "id": "vGtcQt2DRI4Q"
      },
      "source": [
        "Payment_of_Min_Amount"
      ]
    },
    {
      "cell_type": "code",
      "execution_count": null,
      "metadata": {
        "colab": {
          "base_uri": "https://localhost:8080/"
        },
        "id": "FcDITCaXob4y",
        "outputId": "65f6eea0-29c2-4a91-d28b-107aab5301ff"
      },
      "outputs": [
        {
          "data": {
            "text/plain": [
              "0"
            ]
          },
          "execution_count": 191,
          "metadata": {},
          "output_type": "execute_result"
        }
      ],
      "source": [
        "df['Payment_of_Min_Amount'].isnull().sum()"
      ]
    },
    {
      "cell_type": "code",
      "execution_count": null,
      "metadata": {
        "colab": {
          "base_uri": "https://localhost:8080/"
        },
        "id": "KvTkmj89RL05",
        "outputId": "c4097e71-90e3-4ddf-8ca5-a19fcd42a290"
      },
      "outputs": [
        {
          "name": "stdout",
          "output_type": "stream",
          "text": [
            "None\n"
          ]
        }
      ],
      "source": [
        "clean_payment_of_min_amount = df['Payment_of_Min_Amount'].fillna(df['Payment_of_Min_Amount'].mode()[0], inplace=True)\n",
        "print(clean_payment_of_min_amount)"
      ]
    },
    {
      "cell_type": "code",
      "execution_count": null,
      "metadata": {
        "colab": {
          "base_uri": "https://localhost:8080/"
        },
        "id": "uUBrPtEozVz2",
        "outputId": "34af246f-8246-487e-a056-efecff4054cd"
      },
      "outputs": [
        {
          "name": "stdout",
          "output_type": "stream",
          "text": [
            "['No' 'NM' 'Yes']\n"
          ]
        }
      ],
      "source": [
        "#check unique values\n",
        "print(df['Payment_of_Min_Amount'].unique())"
      ]
    },
    {
      "cell_type": "code",
      "execution_count": null,
      "metadata": {
        "colab": {
          "base_uri": "https://localhost:8080/"
        },
        "id": "U-FjT3DYEvSn",
        "outputId": "44201f49-de01-4c6d-d782-d5f0f24bd9ce"
      },
      "outputs": [
        {
          "name": "stdout",
          "output_type": "stream",
          "text": [
            "[0 1 2]\n"
          ]
        }
      ],
      "source": [
        "# Define a dictionary to map the string values to numeric values\n",
        "mapping = {'No': 0, 'NM': 1, 'Yes': 2}\n",
        "\n",
        "# Use the map() method to convert the values in the \"Credit_Mix\" column\n",
        "df['Payment_of_Min_Amount'] = df['Payment_of_Min_Amount'].map(mapping)\n",
        "\n",
        "#check unique values\n",
        "print(df['Payment_of_Min_Amount'].unique())"
      ]
    },
    {
      "cell_type": "code",
      "execution_count": null,
      "metadata": {
        "colab": {
          "base_uri": "https://localhost:8080/"
        },
        "id": "rUXaMPUXE-lC",
        "outputId": "88766466-321d-4d39-b63c-e0b8f6fb766d"
      },
      "outputs": [
        {
          "data": {
            "text/plain": [
              "dtype('int64')"
            ]
          },
          "execution_count": 208,
          "metadata": {},
          "output_type": "execute_result"
        }
      ],
      "source": [
        "df['Payment_of_Min_Amount'].dtype"
      ]
    },
    {
      "cell_type": "markdown",
      "metadata": {
        "id": "IeYfisNeRMvC"
      },
      "source": [
        "Total_EMI_per_month"
      ]
    },
    {
      "cell_type": "code",
      "execution_count": null,
      "metadata": {
        "id": "cVtLxbCdRSD-"
      },
      "outputs": [],
      "source": [
        "df['Total_EMI_per_month'].fillna(df['Total_EMI_per_month'].mean(), inplace=True)\n"
      ]
    },
    {
      "cell_type": "markdown",
      "metadata": {
        "id": "oWpLmRrvRTBv"
      },
      "source": [
        "Amount_invested_monthly"
      ]
    },
    {
      "cell_type": "code",
      "execution_count": null,
      "metadata": {
        "colab": {
          "base_uri": "https://localhost:8080/"
        },
        "id": "nS4Kz4HDRWXY",
        "outputId": "9968ac50-a238-457d-d9ce-4fb0cf61ca81"
      },
      "outputs": [
        {
          "name": "stdout",
          "output_type": "stream",
          "text": [
            "None\n"
          ]
        }
      ],
      "source": [
        "clean_amount_invested = df['Amount_invested_monthly'].fillna(df['Amount_invested_monthly'].mode()[0], inplace=True)\n",
        "print(clean_amount_invested)\n",
        "\n"
      ]
    },
    {
      "cell_type": "code",
      "execution_count": null,
      "metadata": {
        "colab": {
          "base_uri": "https://localhost:8080/"
        },
        "id": "NKnxT-7UwE_4",
        "outputId": "4b96e8e0-8c93-40ce-c770-97f40f054167"
      },
      "outputs": [
        {
          "name": "stdout",
          "output_type": "stream",
          "text": [
            "0         80.415295\n",
            "1        118.280222\n",
            "2         81.699521\n",
            "3        199.458074\n",
            "4         41.420153\n",
            "            ...    \n",
            "99995     60.971333\n",
            "99996     54.185950\n",
            "99997     24.028477\n",
            "99998    251.672582\n",
            "99999    167.163865\n",
            "Name: Amount_invested_monthly, Length: 99991, dtype: float64\n"
          ]
        },
        {
          "name": "stderr",
          "output_type": "stream",
          "text": [
            "<ipython-input-209-71b3893da59c>:2: FutureWarning: The default value of regex will change from True to False in a future version.\n",
            "  conv = df['Amount_invested_monthly'] = df['Amount_invested_monthly'].str.replace('[^\\d.]', '').astype(float)\n"
          ]
        }
      ],
      "source": [
        "# convert 'Amount_invested_monthly' columns to float64\n",
        "conv = df['Amount_invested_monthly'] = df['Amount_invested_monthly'].str.replace('[^\\d.]', '').astype(float)\n",
        "print(conv)"
      ]
    },
    {
      "cell_type": "markdown",
      "metadata": {
        "id": "Dn2tJtAfpWAW"
      },
      "source": [
        "Payment_Behaviour"
      ]
    },
    {
      "cell_type": "code",
      "execution_count": null,
      "metadata": {
        "colab": {
          "base_uri": "https://localhost:8080/"
        },
        "id": "j8m9xmyrpgry",
        "outputId": "4f5ede2f-cb81-47c9-c532-222a7633e821"
      },
      "outputs": [
        {
          "name": "stdout",
          "output_type": "stream",
          "text": [
            "None\n"
          ]
        }
      ],
      "source": [
        "clean_payment_behaviour = df['Payment_Behaviour'].fillna(df['Payment_Behaviour'].mode()[0], inplace=True)\n",
        "print(clean_payment_behaviour)"
      ]
    },
    {
      "cell_type": "code",
      "execution_count": null,
      "metadata": {
        "colab": {
          "base_uri": "https://localhost:8080/"
        },
        "id": "nmNP5zBmpxF-",
        "outputId": "f1f9e63b-ba12-4a3a-e338-8b33ae14f282"
      },
      "outputs": [
        {
          "name": "stdout",
          "output_type": "stream",
          "text": [
            "99159     High_spent_Large_value_payments\n",
            "99158     High_spent_Small_value_payments\n",
            "99157    High_spent_Medium_value_payments\n",
            "99156    High_spent_Medium_value_payments\n",
            "99155                              !@9#%8\n",
            "                       ...               \n",
            "56755                              !@9#%8\n",
            "56754    High_spent_Medium_value_payments\n",
            "56753     High_spent_Small_value_payments\n",
            "56752      Low_spent_Large_value_payments\n",
            "56756      Low_spent_Large_value_payments\n",
            "Name: Payment_Behaviour, Length: 97224, dtype: object\n"
          ]
        }
      ],
      "source": [
        "# convert columns to string data type:\n",
        "conv = df['Payment_Behaviour'] = df['Payment_Behaviour'].astype(str)\n",
        "print(conv)"
      ]
    },
    {
      "cell_type": "code",
      "execution_count": null,
      "metadata": {
        "colab": {
          "base_uri": "https://localhost:8080/"
        },
        "id": "1mhSgqtUytQy",
        "outputId": "a1fd34c0-6b55-46f2-f111-1f3c9cca807c"
      },
      "outputs": [
        {
          "data": {
            "text/plain": [
              "dtype('O')"
            ]
          },
          "execution_count": 199,
          "metadata": {},
          "output_type": "execute_result"
        }
      ],
      "source": [
        "#check data type\n",
        "df['Payment_Behaviour'].dtype"
      ]
    },
    {
      "cell_type": "markdown",
      "metadata": {
        "id": "Q54wnpKmpyDe"
      },
      "source": [
        "Monthly_Balance"
      ]
    },
    {
      "cell_type": "code",
      "execution_count": null,
      "metadata": {
        "colab": {
          "base_uri": "https://localhost:8080/"
        },
        "id": "pTWAOShyp3Zu",
        "outputId": "71690010-4bb5-4af0-f1f1-a1f111e50fd6"
      },
      "outputs": [
        {
          "name": "stdout",
          "output_type": "stream",
          "text": [
            "None\n"
          ]
        }
      ],
      "source": [
        "clean_monthly_balance=df['Monthly_Balance'].fillna(df['Monthly_Balance'].mode()[0], inplace=True)\n",
        "print(clean_monthly_balance)"
      ]
    },
    {
      "cell_type": "code",
      "execution_count": null,
      "metadata": {
        "id": "am6NR2Wbwu1G"
      },
      "outputs": [],
      "source": [
        "df.drop(df[df[\"Monthly_Balance\"]=='__-333333333333333333333333333__'].index,inplace=True)"
      ]
    },
    {
      "cell_type": "code",
      "execution_count": null,
      "metadata": {
        "colab": {
          "base_uri": "https://localhost:8080/"
        },
        "id": "AQkKIzoxwi23",
        "outputId": "877869ef-b176-4c7e-a595-b1dec2cb875e"
      },
      "outputs": [
        {
          "name": "stdout",
          "output_type": "stream",
          "text": [
            "0        312.494089\n",
            "1        284.629162\n",
            "2        331.209863\n",
            "3        223.451310\n",
            "4        341.489231\n",
            "            ...    \n",
            "99995    479.866228\n",
            "99996    496.651610\n",
            "99997    516.809083\n",
            "99998    319.164979\n",
            "99999    393.673696\n",
            "Name: Monthly_Balance, Length: 99991, dtype: float64\n"
          ]
        }
      ],
      "source": [
        "# convert Monthly_Balance columns to float data type:\n",
        "conv = df['Monthly_Balance'] = df['Monthly_Balance'].astype(float)\n",
        "print(conv)"
      ]
    },
    {
      "cell_type": "markdown",
      "metadata": {
        "id": "UUyDsCW5qEvQ"
      },
      "source": [
        "Credit_Score"
      ]
    },
    {
      "cell_type": "code",
      "execution_count": null,
      "metadata": {
        "colab": {
          "base_uri": "https://localhost:8080/"
        },
        "id": "h5aRHFBIqIi8",
        "outputId": "5a8a3558-b9d5-4427-fc04-3ae50abdafb0"
      },
      "outputs": [
        {
          "name": "stdout",
          "output_type": "stream",
          "text": [
            "None\n"
          ]
        }
      ],
      "source": [
        "mis = df['Credit_Score'].fillna(df['Credit_Score'].mode()[0], inplace=True)\n",
        "print(mis)"
      ]
    },
    {
      "cell_type": "code",
      "execution_count": null,
      "metadata": {
        "colab": {
          "base_uri": "https://localhost:8080/"
        },
        "id": "1R4g3vZ6x0zO",
        "outputId": "4ec1273b-26fc-4b6f-fca4-7db69fddcc78"
      },
      "outputs": [
        {
          "name": "stdout",
          "output_type": "stream",
          "text": [
            "['Good' 'Standard' 'Poor']\n"
          ]
        }
      ],
      "source": [
        "#check unique values\n",
        "print(df['Credit_Score'].unique())"
      ]
    },
    {
      "cell_type": "code",
      "execution_count": null,
      "metadata": {
        "colab": {
          "base_uri": "https://localhost:8080/"
        },
        "id": "ruuX6gYyqd6_",
        "outputId": "15eef1d4-9811-4e7b-91d8-d4e6515e2cd4"
      },
      "outputs": [
        {
          "name": "stdout",
          "output_type": "stream",
          "text": [
            "[3 2 1]\n"
          ]
        }
      ],
      "source": [
        "# Define a dictionary to map the string values to numeric values\n",
        "mapping = {'Poor': 1, 'Standard': 2, 'Good': 3}\n",
        "\n",
        "# Use the map() method to convert the values in the \"Credit_Mix\" column\n",
        "df['Credit_Score'] = df['Credit_Score'].map(mapping)\n",
        "\n",
        "#check unique values\n",
        "print(df['Credit_Score'].unique())"
      ]
    },
    {
      "cell_type": "code",
      "execution_count": null,
      "metadata": {
        "colab": {
          "base_uri": "https://localhost:8080/"
        },
        "id": "Romwo5Yux7vr",
        "outputId": "23c374f5-b31d-48c7-e22a-fa86de38ade0"
      },
      "outputs": [
        {
          "data": {
            "text/plain": [
              "dtype('int64')"
            ]
          },
          "execution_count": 198,
          "metadata": {},
          "output_type": "execute_result"
        }
      ],
      "source": [
        "#check data type\n",
        "df['Credit_Score'].dtype"
      ]
    },
    {
      "cell_type": "markdown",
      "metadata": {
        "id": "_VZsJOxrG9hV"
      },
      "source": [
        "Check  cleaned data"
      ]
    },
    {
      "cell_type": "code",
      "execution_count": null,
      "metadata": {
        "colab": {
          "base_uri": "https://localhost:8080/"
        },
        "id": "-R0NNWKOG4C4",
        "outputId": "a68bfe82-514d-47e2-9910-6fdc3f9cabd6"
      },
      "outputs": [
        {
          "name": "stdout",
          "output_type": "stream",
          "text": [
            "<class 'pandas.core.frame.DataFrame'>\n",
            "Int64Index: 99991 entries, 0 to 99999\n",
            "Data columns (total 28 columns):\n",
            " #   Column                    Non-Null Count  Dtype  \n",
            "---  ------                    --------------  -----  \n",
            " 0   ID                        99991 non-null  object \n",
            " 1   Customer_ID               99991 non-null  object \n",
            " 2   Month                     99991 non-null  object \n",
            " 3   Name                      90006 non-null  object \n",
            " 4   Age                       99991 non-null  object \n",
            " 5   SSN                       99991 non-null  object \n",
            " 6   Occupation                99991 non-null  object \n",
            " 7   Annual_Income             99991 non-null  object \n",
            " 8   Monthly_Inhand_Salary     84990 non-null  float64\n",
            " 9   Num_Bank_Accounts         99991 non-null  int64  \n",
            " 10  Num_Credit_Card           99991 non-null  int64  \n",
            " 11  Interest_Rate             99991 non-null  int64  \n",
            " 12  Num_of_Loan               99991 non-null  object \n",
            " 13  Type_of_Loan              88583 non-null  object \n",
            " 14  Delay_from_due_date       99991 non-null  int64  \n",
            " 15  Num_of_Delayed_Payment    99991 non-null  Int64  \n",
            " 16  Changed_Credit_Limit      99991 non-null  float64\n",
            " 17  Num_Credit_Inquiries      99991 non-null  Int64  \n",
            " 18  Credit_Mix                99991 non-null  int64  \n",
            " 19  Outstanding_Debt          99991 non-null  float64\n",
            " 20  Credit_Utilization_Ratio  99991 non-null  float64\n",
            " 21  Credit_History_Age        90962 non-null  object \n",
            " 22  Payment_of_Min_Amount     99991 non-null  int64  \n",
            " 23  Total_EMI_per_month       99991 non-null  float64\n",
            " 24  Amount_invested_monthly   95513 non-null  float64\n",
            " 25  Payment_Behaviour         99991 non-null  object \n",
            " 26  Monthly_Balance           98791 non-null  float64\n",
            " 27  Credit_Score              99991 non-null  int64  \n",
            "dtypes: Int64(2), float64(7), int64(7), object(12)\n",
            "memory usage: 22.3+ MB\n"
          ]
        }
      ],
      "source": [
        "df.info()"
      ]
    },
    {
      "cell_type": "code",
      "execution_count": null,
      "metadata": {
        "colab": {
          "base_uri": "https://localhost:8080/"
        },
        "id": "_5WuHSQVGs_x",
        "outputId": "8734f16c-0974-455c-93ed-e71202a47edf"
      },
      "outputs": [
        {
          "data": {
            "text/plain": [
              "ID                              0\n",
              "Customer_ID                     0\n",
              "Month                           0\n",
              "Name                         9985\n",
              "Age                             0\n",
              "SSN                             0\n",
              "Occupation                      0\n",
              "Annual_Income                   0\n",
              "Monthly_Inhand_Salary       15001\n",
              "Num_Bank_Accounts               0\n",
              "Num_Credit_Card                 0\n",
              "Interest_Rate                   0\n",
              "Num_of_Loan                     0\n",
              "Type_of_Loan                11408\n",
              "Delay_from_due_date             0\n",
              "Num_of_Delayed_Payment          0\n",
              "Changed_Credit_Limit            0\n",
              "Num_Credit_Inquiries            0\n",
              "Credit_Mix                      0\n",
              "Outstanding_Debt                0\n",
              "Credit_Utilization_Ratio        0\n",
              "Credit_History_Age           9029\n",
              "Payment_of_Min_Amount           0\n",
              "Total_EMI_per_month             0\n",
              "Amount_invested_monthly      4478\n",
              "Payment_Behaviour               0\n",
              "Monthly_Balance              1200\n",
              "Credit_Score                    0\n",
              "dtype: int64"
            ]
          },
          "execution_count": 212,
          "metadata": {},
          "output_type": "execute_result"
        }
      ],
      "source": [
        "df.isnull().sum()"
      ]
    },
    {
      "cell_type": "code",
      "execution_count": null,
      "metadata": {
        "colab": {
          "base_uri": "https://localhost:8080/",
          "height": 240
        },
        "id": "PyBIlWPqGcPa",
        "outputId": "549d2451-c626-4b07-fe10-e4b22dcb848e"
      },
      "outputs": [
        {
          "ename": "NameError",
          "evalue": "ignored",
          "output_type": "error",
          "traceback": [
            "\u001b[0;31m---------------------------------------------------------------------------\u001b[0m",
            "\u001b[0;31mNameError\u001b[0m                                 Traceback (most recent call last)",
            "\u001b[0;32m<ipython-input-1-e47d9d32ef1d>\u001b[0m in \u001b[0;36m<cell line: 5>\u001b[0;34m()\u001b[0m\n\u001b[1;32m      3\u001b[0m \u001b[0;34m\u001b[0m\u001b[0m\n\u001b[1;32m      4\u001b[0m \u001b[0;31m# Save the cleaned data to the new CSV file\u001b[0m\u001b[0;34m\u001b[0m\u001b[0;34m\u001b[0m\u001b[0m\n\u001b[0;32m----> 5\u001b[0;31m \u001b[0mdf\u001b[0m\u001b[0;34m.\u001b[0m\u001b[0mto_csv\u001b[0m\u001b[0;34m(\u001b[0m\u001b[0moutput_file\u001b[0m\u001b[0;34m,\u001b[0m \u001b[0mindex\u001b[0m\u001b[0;34m=\u001b[0m\u001b[0;32mFalse\u001b[0m\u001b[0;34m)\u001b[0m\u001b[0;34m\u001b[0m\u001b[0;34m\u001b[0m\u001b[0m\n\u001b[0m\u001b[1;32m      6\u001b[0m \u001b[0;34m\u001b[0m\u001b[0m\n\u001b[1;32m      7\u001b[0m \u001b[0mprint\u001b[0m\u001b[0;34m(\u001b[0m\u001b[0;34m\"Cleaned data saved successfully to\"\u001b[0m\u001b[0;34m,\u001b[0m \u001b[0moutput_file\u001b[0m\u001b[0;34m)\u001b[0m\u001b[0;34m\u001b[0m\u001b[0;34m\u001b[0m\u001b[0m\n",
            "\u001b[0;31mNameError\u001b[0m: name 'df' is not defined"
          ]
        }
      ],
      "source": [
        "# Specify the file path and name for the new CSV file\n",
        "output_file = 'cleaned_data.csv'\n",
        "\n",
        "# Save the cleaned data to the new CSV file\n",
        "df.to_csv(output_file, index=False)\n",
        "\n",
        "print(\"Cleaned data saved successfully to\", output_file)"
      ]
    },
    {
      "cell_type": "markdown",
      "metadata": {
        "id": "dZvT1wpcPb9I"
      },
      "source": [
        "# AFTER CLEANING PROCESS\n",
        "\n",
        "1.   Liste öğesi\n",
        "2.   Liste öğesi\n",
        "\n"
      ]
    },
    {
      "cell_type": "code",
      "execution_count": null,
      "metadata": {
        "id": "Jv3yknCHPfLi"
      },
      "outputs": [],
      "source": [
        "import pandas as pd\n",
        "import numpy as np\n",
        "import matplotlib.pyplot as plt\n",
        "import seaborn as sns\n",
        "import re"
      ]
    },
    {
      "cell_type": "code",
      "execution_count": null,
      "metadata": {
        "colab": {
          "background_save": true,
          "base_uri": "https://localhost:8080/",
          "height": 36
        },
        "id": "p8MimgEQHmjm",
        "outputId": "569ce6a7-6496-4f99-be82-69f776da2f3d"
      },
      "outputs": [
        {
          "data": {
            "text/html": [
              "\n",
              "     <input type=\"file\" id=\"files-dc5a33de-0b44-4dcc-8c6c-c502efb397ba\" name=\"files[]\" multiple disabled\n",
              "        style=\"border:none\" />\n",
              "     <output id=\"result-dc5a33de-0b44-4dcc-8c6c-c502efb397ba\">\n",
              "      Upload widget is only available when the cell has been executed in the\n",
              "      current browser session. Please rerun this cell to enable.\n",
              "      </output>\n",
              "      <script>// Copyright 2017 Google LLC\n",
              "//\n",
              "// Licensed under the Apache License, Version 2.0 (the \"License\");\n",
              "// you may not use this file except in compliance with the License.\n",
              "// You may obtain a copy of the License at\n",
              "//\n",
              "//      http://www.apache.org/licenses/LICENSE-2.0\n",
              "//\n",
              "// Unless required by applicable law or agreed to in writing, software\n",
              "// distributed under the License is distributed on an \"AS IS\" BASIS,\n",
              "// WITHOUT WARRANTIES OR CONDITIONS OF ANY KIND, either express or implied.\n",
              "// See the License for the specific language governing permissions and\n",
              "// limitations under the License.\n",
              "\n",
              "/**\n",
              " * @fileoverview Helpers for google.colab Python module.\n",
              " */\n",
              "(function(scope) {\n",
              "function span(text, styleAttributes = {}) {\n",
              "  const element = document.createElement('span');\n",
              "  element.textContent = text;\n",
              "  for (const key of Object.keys(styleAttributes)) {\n",
              "    element.style[key] = styleAttributes[key];\n",
              "  }\n",
              "  return element;\n",
              "}\n",
              "\n",
              "// Max number of bytes which will be uploaded at a time.\n",
              "const MAX_PAYLOAD_SIZE = 100 * 1024;\n",
              "\n",
              "function _uploadFiles(inputId, outputId) {\n",
              "  const steps = uploadFilesStep(inputId, outputId);\n",
              "  const outputElement = document.getElementById(outputId);\n",
              "  // Cache steps on the outputElement to make it available for the next call\n",
              "  // to uploadFilesContinue from Python.\n",
              "  outputElement.steps = steps;\n",
              "\n",
              "  return _uploadFilesContinue(outputId);\n",
              "}\n",
              "\n",
              "// This is roughly an async generator (not supported in the browser yet),\n",
              "// where there are multiple asynchronous steps and the Python side is going\n",
              "// to poll for completion of each step.\n",
              "// This uses a Promise to block the python side on completion of each step,\n",
              "// then passes the result of the previous step as the input to the next step.\n",
              "function _uploadFilesContinue(outputId) {\n",
              "  const outputElement = document.getElementById(outputId);\n",
              "  const steps = outputElement.steps;\n",
              "\n",
              "  const next = steps.next(outputElement.lastPromiseValue);\n",
              "  return Promise.resolve(next.value.promise).then((value) => {\n",
              "    // Cache the last promise value to make it available to the next\n",
              "    // step of the generator.\n",
              "    outputElement.lastPromiseValue = value;\n",
              "    return next.value.response;\n",
              "  });\n",
              "}\n",
              "\n",
              "/**\n",
              " * Generator function which is called between each async step of the upload\n",
              " * process.\n",
              " * @param {string} inputId Element ID of the input file picker element.\n",
              " * @param {string} outputId Element ID of the output display.\n",
              " * @return {!Iterable<!Object>} Iterable of next steps.\n",
              " */\n",
              "function* uploadFilesStep(inputId, outputId) {\n",
              "  const inputElement = document.getElementById(inputId);\n",
              "  inputElement.disabled = false;\n",
              "\n",
              "  const outputElement = document.getElementById(outputId);\n",
              "  outputElement.innerHTML = '';\n",
              "\n",
              "  const pickedPromise = new Promise((resolve) => {\n",
              "    inputElement.addEventListener('change', (e) => {\n",
              "      resolve(e.target.files);\n",
              "    });\n",
              "  });\n",
              "\n",
              "  const cancel = document.createElement('button');\n",
              "  inputElement.parentElement.appendChild(cancel);\n",
              "  cancel.textContent = 'Cancel upload';\n",
              "  const cancelPromise = new Promise((resolve) => {\n",
              "    cancel.onclick = () => {\n",
              "      resolve(null);\n",
              "    };\n",
              "  });\n",
              "\n",
              "  // Wait for the user to pick the files.\n",
              "  const files = yield {\n",
              "    promise: Promise.race([pickedPromise, cancelPromise]),\n",
              "    response: {\n",
              "      action: 'starting',\n",
              "    }\n",
              "  };\n",
              "\n",
              "  cancel.remove();\n",
              "\n",
              "  // Disable the input element since further picks are not allowed.\n",
              "  inputElement.disabled = true;\n",
              "\n",
              "  if (!files) {\n",
              "    return {\n",
              "      response: {\n",
              "        action: 'complete',\n",
              "      }\n",
              "    };\n",
              "  }\n",
              "\n",
              "  for (const file of files) {\n",
              "    const li = document.createElement('li');\n",
              "    li.append(span(file.name, {fontWeight: 'bold'}));\n",
              "    li.append(span(\n",
              "        `(${file.type || 'n/a'}) - ${file.size} bytes, ` +\n",
              "        `last modified: ${\n",
              "            file.lastModifiedDate ? file.lastModifiedDate.toLocaleDateString() :\n",
              "                                    'n/a'} - `));\n",
              "    const percent = span('0% done');\n",
              "    li.appendChild(percent);\n",
              "\n",
              "    outputElement.appendChild(li);\n",
              "\n",
              "    const fileDataPromise = new Promise((resolve) => {\n",
              "      const reader = new FileReader();\n",
              "      reader.onload = (e) => {\n",
              "        resolve(e.target.result);\n",
              "      };\n",
              "      reader.readAsArrayBuffer(file);\n",
              "    });\n",
              "    // Wait for the data to be ready.\n",
              "    let fileData = yield {\n",
              "      promise: fileDataPromise,\n",
              "      response: {\n",
              "        action: 'continue',\n",
              "      }\n",
              "    };\n",
              "\n",
              "    // Use a chunked sending to avoid message size limits. See b/62115660.\n",
              "    let position = 0;\n",
              "    do {\n",
              "      const length = Math.min(fileData.byteLength - position, MAX_PAYLOAD_SIZE);\n",
              "      const chunk = new Uint8Array(fileData, position, length);\n",
              "      position += length;\n",
              "\n",
              "      const base64 = btoa(String.fromCharCode.apply(null, chunk));\n",
              "      yield {\n",
              "        response: {\n",
              "          action: 'append',\n",
              "          file: file.name,\n",
              "          data: base64,\n",
              "        },\n",
              "      };\n",
              "\n",
              "      let percentDone = fileData.byteLength === 0 ?\n",
              "          100 :\n",
              "          Math.round((position / fileData.byteLength) * 100);\n",
              "      percent.textContent = `${percentDone}% done`;\n",
              "\n",
              "    } while (position < fileData.byteLength);\n",
              "  }\n",
              "\n",
              "  // All done.\n",
              "  yield {\n",
              "    response: {\n",
              "      action: 'complete',\n",
              "    }\n",
              "  };\n",
              "}\n",
              "\n",
              "scope.google = scope.google || {};\n",
              "scope.google.colab = scope.google.colab || {};\n",
              "scope.google.colab._files = {\n",
              "  _uploadFiles,\n",
              "  _uploadFilesContinue,\n",
              "};\n",
              "})(self);\n",
              "</script> "
            ],
            "text/plain": [
              "<IPython.core.display.HTML object>"
            ]
          },
          "metadata": {},
          "output_type": "display_data"
        }
      ],
      "source": [
        "from google.colab import files\n",
        "uploaded = files.upload()"
      ]
    },
    {
      "cell_type": "code",
      "execution_count": null,
      "metadata": {
        "id": "dpo177pZL7ra"
      },
      "outputs": [],
      "source": [
        "df = pd.read_csv('cleaned_data.csv')"
      ]
    },
    {
      "cell_type": "code",
      "execution_count": null,
      "metadata": {
        "id": "S14cS7W6MDj9"
      },
      "outputs": [],
      "source": [
        "df.head()"
      ]
    },
    {
      "cell_type": "markdown",
      "metadata": {
        "id": "K7NS0YdHPm-1"
      },
      "source": [
        "### MODELLING"
      ]
    },
    {
      "cell_type": "code",
      "execution_count": null,
      "metadata": {
        "id": "HAiRzt6cPjVI"
      },
      "outputs": [],
      "source": [
        "import xgboost as xgb\n",
        "from sklearn.metrics import mean_squared_error\n",
        "color_pal = sns.color_palette()\n",
        "plt.style.use('fivethirtyeight')"
      ]
    },
    {
      "cell_type": "code",
      "execution_count": null,
      "metadata": {
        "id": "ECEJQrbwPjSv"
      },
      "outputs": [],
      "source": [
        "len(df)"
      ]
    },
    {
      "cell_type": "code",
      "execution_count": null,
      "metadata": {
        "id": "4FJ_E0AHPjPU"
      },
      "outputs": [],
      "source": [
        "# Drop rows with missing values, blank cells, or null values\n",
        "df2 = df.dropna()"
      ]
    },
    {
      "cell_type": "markdown",
      "metadata": {
        "id": "Kmc9l3nhPvCQ"
      },
      "source": [
        "## Train-Test Splits"
      ]
    },
    {
      "cell_type": "code",
      "execution_count": null,
      "metadata": {
        "id": "3mEYgadePjL4"
      },
      "outputs": [],
      "source": [
        "from sklearn.model_selection import train_test_split\n",
        "\n",
        "# Assuming your DataFrame is named df\n",
        "\n",
        "# Split the data into train and test sets\n",
        "train_df, test_df = train_test_split(df, test_size=0.2, random_state=42)\n",
        "\n",
        "# Print the shapes of the train and test sets\n",
        "print(\"Train set shape:\", train_df.shape)\n",
        "print(\"Test set shape:\", test_df.shape)"
      ]
    },
    {
      "cell_type": "code",
      "execution_count": null,
      "metadata": {
        "id": "5QslCIeOPjJT"
      },
      "outputs": [],
      "source": [
        "# Get the column names\n",
        "column_names = df.columns\n",
        "\n",
        "# Print the column names\n",
        "print(column_names)"
      ]
    },
    {
      "cell_type": "code",
      "execution_count": null,
      "metadata": {
        "id": "kZt_ezIFPjGf"
      },
      "outputs": [],
      "source": [
        "FEATURES = ['Month', 'Age', 'Occupation', 'Annual_Income', 'Monthly_Inhand_Salary', 'Num_Bank_Accounts',\n",
        "       'Num_Credit_Card', 'Interest_Rate', 'Num_of_Loan', 'Delay_from_due_date', 'Num_of_Delayed_Payment',\n",
        "        'Changed_Credit_Limit', 'Num_Credit_Inquiries', 'Credit_Mix', 'Outstanding_Debt', 'Credit_Utilization_Ratio',\n",
        "        'Credit_History_Age', 'Payment_of_Min_Amount', 'Total_EMI_per_month', 'Amount_invested_monthly',\n",
        "        'Payment_Behaviour', 'Monthly_Balance', 'Auto_Loan_Dummy', 'Credit_Builder_Loan_Dummy',\n",
        "       'Debt_Consolidation_Loan_Dummy', 'Home_Equity_Loan_Dummy', 'Mortgage_Loan_Dummy', 'Not_Specified_Dummy',\n",
        "        'Payday_Loan_Dummy', 'Personal_Loan_Dummy', 'Student_Loan_Dummy']\n",
        "\n",
        "TARGET = 'Credit_Score'\n",
        "\n",
        "X_train = train_df[FEATURES]\n",
        "y_train = train_df[TARGET]\n",
        "\n",
        "X_test = test_df[FEATURES]\n",
        "y_test = test_df[TARGET]"
      ]
    },
    {
      "cell_type": "markdown",
      "metadata": {
        "id": "vBvR745ZP4fc"
      },
      "source": [
        "## XGBoost"
      ]
    },
    {
      "cell_type": "code",
      "execution_count": null,
      "metadata": {
        "id": "PFCJseX_Pixi"
      },
      "outputs": [],
      "source": [
        "import xgboost as xgb\n",
        "from sklearn.metrics import accuracy_score"
      ]
    },
    {
      "cell_type": "code",
      "execution_count": null,
      "metadata": {
        "id": "KJlkfj5aPiux"
      },
      "outputs": [],
      "source": [
        "# Define XGBoost parameters\n",
        "params = {\n",
        "    'objective': 'multi:softmax',  # Multiclass classification objective\n",
        "    'num_class': 3                  # Number of classes in the target variable\n",
        "}"
      ]
    },
    {
      "cell_type": "code",
      "execution_count": null,
      "metadata": {
        "id": "Y9g9FnWEPiqm"
      },
      "outputs": [],
      "source": [
        "# Create DMatrix for XGBoost\n",
        "dtrain = xgb.DMatrix(X_train, label=y_train)\n",
        "dtest = xgb.DMatrix(X_test)"
      ]
    },
    {
      "cell_type": "code",
      "execution_count": null,
      "metadata": {
        "id": "ne7pj9bHP-sJ"
      },
      "outputs": [],
      "source": [
        "# Train the XGBoost model\n",
        "model = xgb.train(params, dtrain)"
      ]
    },
    {
      "cell_type": "code",
      "execution_count": null,
      "metadata": {
        "id": "znKJVKT4P-ps"
      },
      "outputs": [],
      "source": [
        "# Make predictions on the test set\n",
        "y_pred = model.predict(dtest)\n",
        "y_pred_labels = [int(value) for value in y_pred]"
      ]
    },
    {
      "cell_type": "code",
      "execution_count": null,
      "metadata": {
        "id": "p_pT3SOAP-nS"
      },
      "outputs": [],
      "source": [
        "# Evaluate the model\n",
        "accuracy = accuracy_score(y_test, y_pred_labels)\n",
        "print(\"Accuracy:\", accuracy)"
      ]
    },
    {
      "cell_type": "code",
      "execution_count": null,
      "metadata": {
        "id": "gL_fblPcP-kt"
      },
      "outputs": [],
      "source": [
        "import matplotlib.pyplot as plt"
      ]
    },
    {
      "cell_type": "code",
      "execution_count": null,
      "metadata": {
        "id": "H5RkOX2LP-iN"
      },
      "outputs": [],
      "source": [
        "# Set figure size\n",
        "plt.figure(figsize=(40, 40))\n",
        "\n",
        "# Plot feature importance\n",
        "xgb.plot_importance(model)\n",
        "plt.show()"
      ]
    },
    {
      "cell_type": "code",
      "execution_count": null,
      "metadata": {
        "id": "qYjYxjqGP-fl"
      },
      "outputs": [],
      "source": [
        "# Get feature importance\n",
        "feature_importance = model.get_score()\n",
        "\n",
        "# Sort feature importance in descending order\n",
        "sorted_feature_importance = sorted(feature_importance.items(), key=lambda x: x[1], reverse=True)\n",
        "\n",
        "# Print feature importance\n",
        "for feature, importance in sorted_feature_importance:\n",
        "    print(f\"{feature}: {importance}\")"
      ]
    },
    {
      "cell_type": "code",
      "execution_count": null,
      "metadata": {
        "id": "4bJYqwIYP-cu"
      },
      "outputs": [],
      "source": [
        "FEATURES2 = ['Outstanding_Debt', 'Month', 'Changed_Credit_Limit', 'Total_EMI_per_month', 'Interest_Rate', 'Delay_from_due_date',\n",
        "'Amount_invested_monthly', 'Annual_Income', 'Num_of_Delayed_Payment', 'Monthly_Balance', 'Monthly_Inhand_Salary', 'Num_Credit_Card',\n",
        "           'Credit_Mix', 'Credit_Utilization_Ratio', 'Credit_History_Age', 'Occupation', 'Num_Credit_Inquiries']\n",
        "TARGET = 'Credit_Score'\n",
        "\n",
        "X_train2 = train_df[FEATURES2]\n",
        "y_train2 = train_df[TARGET]\n",
        "\n",
        "X_test2 = test_df[FEATURES2]\n",
        "y_test2 = test_df[TARGET]"
      ]
    },
    {
      "cell_type": "code",
      "execution_count": null,
      "metadata": {
        "id": "qNn3EcUdQN5J"
      },
      "outputs": [],
      "source": [
        "# Create DMatrix for XGBoost\n",
        "dtrain2 = xgb.DMatrix(X_train2, label=y_train2)\n",
        "dtest2 = xgb.DMatrix(X_test2)"
      ]
    },
    {
      "cell_type": "code",
      "execution_count": null,
      "metadata": {
        "id": "GeZ0h2YBQN20"
      },
      "outputs": [],
      "source": [
        "# Train the XGBoost model\n",
        "model2 = xgb.train(params, dtrain2)"
      ]
    },
    {
      "cell_type": "code",
      "execution_count": null,
      "metadata": {
        "id": "zXGUMRlAQN0O"
      },
      "outputs": [],
      "source": [
        "# Make predictions on the test set\n",
        "y_pred2 = model2.predict(dtest2)\n",
        "y_pred_labels2 = [int(value) for value in y_pred]"
      ]
    },
    {
      "cell_type": "code",
      "execution_count": null,
      "metadata": {
        "colab": {
          "base_uri": "https://localhost:8080/"
        },
        "id": "_Rbe1EfHQNwj",
        "outputId": "141e5ca9-31ca-4e30-bda9-0d08f7b94ebd"
      },
      "outputs": [
        {
          "name": "stdout",
          "output_type": "stream",
          "text": [
            "Accuracy: 0.7206706706706707\n"
          ]
        }
      ],
      "source": [
        "# Evaluate the model\n",
        "accuracy2 = accuracy_score(y_test2, y_pred_labels2)\n",
        "print(\"Accuracy:\", accuracy2)"
      ]
    },
    {
      "cell_type": "code",
      "execution_count": null,
      "metadata": {
        "colab": {
          "base_uri": "https://localhost:8080/",
          "height": 525
        },
        "id": "rDrOpBnDQNtP",
        "outputId": "742b58b9-3c24-4023-84b7-5f9fe8c4896b"
      },
      "outputs": [
        {
          "data": {
            "text/plain": [
              "<Figure size 4000x4000 with 0 Axes>"
            ]
          },
          "metadata": {},
          "output_type": "display_data"
        },
        {
          "data": {
            "image/png": "[encoded data removed]",
            "text/plain": [
              "<Figure size 640x480 with 1 Axes>"
            ]
          },
          "metadata": {},
          "output_type": "display_data"
        }
      ],
      "source": [
        "# Set figure size\n",
        "plt.figure(figsize=(40, 40))\n",
        "\n",
        "# Plot feature importance\n",
        "xgb.plot_importance(model2)\n",
        "plt.show()"
      ]
    },
    {
      "cell_type": "markdown",
      "metadata": {
        "id": "eyJDN7XBBIit"
      },
      "source": [
        "## Model Tunning"
      ]
    },
    {
      "cell_type": "code",
      "execution_count": null,
      "metadata": {
        "id": "SZ38WQP2QNqm"
      },
      "outputs": [],
      "source": [
        "from sklearn.model_selection import GridSearchCV"
      ]
    },
    {
      "cell_type": "code",
      "execution_count": null,
      "metadata": {
        "id": "3Q7QLzEWPink"
      },
      "outputs": [],
      "source": [
        "# Define XGBoost parameters\n",
        "params = {\n",
        "    'objective': 'binary:logistic',\n",
        "    'eval_metric': 'logloss'\n",
        "}"
      ]
    },
    {
      "cell_type": "code",
      "execution_count": null,
      "metadata": {
        "colab": {
          "base_uri": "https://localhost:8080/",
          "height": 183
        },
        "id": "sK8pUuvQQfgj",
        "outputId": "afb62f19-6568-4b52-d9a5-a2105081753e"
      },
      "outputs": [
        {
          "ename": "NameError",
          "evalue": "ignored",
          "output_type": "error",
          "traceback": [
            "\u001b[0;31m---------------------------------------------------------------------------\u001b[0m",
            "\u001b[0;31mNameError\u001b[0m                                 Traceback (most recent call last)",
            "\u001b[0;32m<ipython-input-3-898909356e30>\u001b[0m in \u001b[0;36m<cell line: 2>\u001b[0;34m()\u001b[0m\n\u001b[1;32m      1\u001b[0m \u001b[0;31m# Create DMatrix for XGBoost\u001b[0m\u001b[0;34m\u001b[0m\u001b[0;34m\u001b[0m\u001b[0m\n\u001b[0;32m----> 2\u001b[0;31m \u001b[0mdtrain2\u001b[0m \u001b[0;34m=\u001b[0m \u001b[0mxgb\u001b[0m\u001b[0;34m.\u001b[0m\u001b[0mDMatrix\u001b[0m\u001b[0;34m(\u001b[0m\u001b[0mX_train2\u001b[0m\u001b[0;34m,\u001b[0m \u001b[0mlabel\u001b[0m\u001b[0;34m=\u001b[0m\u001b[0my_train2\u001b[0m\u001b[0;34m)\u001b[0m\u001b[0;34m\u001b[0m\u001b[0;34m\u001b[0m\u001b[0m\n\u001b[0m",
            "\u001b[0;31mNameError\u001b[0m: name 'xgb' is not defined"
          ]
        }
      ],
      "source": [
        "# Create DMatrix for XGBoost\n",
        "dtrain2 = xgb.DMatrix(X_train2, label=y_train2)"
      ]
    },
    {
      "cell_type": "code",
      "execution_count": null,
      "metadata": {
        "id": "48H8P_cSBQ6D"
      },
      "outputs": [],
      "source": [
        "# Define hyperparameters grid for tuning\n",
        "param_grid = {\n",
        "    'max_depth': [3, 5, 7],\n",
        "    'learning_rate': [0.1, 0.01, 0.001],\n",
        "    'subsample': [0.8, 0.9, 1.0],\n",
        "    'colsample_bytree': [0.8, 0.9, 1.0]\n",
        "}"
      ]
    },
    {
      "cell_type": "code",
      "execution_count": null,
      "metadata": {
        "id": "4O2ygMr0BQ3S"
      },
      "outputs": [],
      "source": [
        "# Create the XGBoost model\n",
        "model2 = xgb.XGBClassifier()"
      ]
    },
    {
      "cell_type": "code",
      "execution_count": null,
      "metadata": {
        "id": "uAOhLzCWBQ0K"
      },
      "outputs": [],
      "source": [
        "# Please don't run. It may take 1 hour.\n",
        "# Perform grid search\n",
        "#grid_search = GridSearchCV(estimator=model2, param_grid=param_grid, scoring='accuracy', cv=5)\n",
        "#grid_search.fit(X_train2, y_train2)"
      ]
    },
    {
      "cell_type": "code",
      "execution_count": null,
      "metadata": {
        "id": "P5uNYvVdBQxa"
      },
      "outputs": [],
      "source": [
        "# Get the best parameters and model. I foubd the best parameter from my own laptop\n",
        "best_params = grid_search.best_params_"
      ]
    },
    {
      "cell_type": "code",
      "execution_count": null,
      "metadata": {
        "id": "65NZEYSxBQud"
      },
      "outputs": [],
      "source": [
        "model2 = grid_search.best_estimator_"
      ]
    },
    {
      "cell_type": "code",
      "execution_count": null,
      "metadata": {
        "colab": {
          "base_uri": "https://localhost:8080/",
          "height": 248
        },
        "id": "T7rGtPRGBQrF",
        "outputId": "c6d74fc4-d2b9-4704-a537-3742c88f7d93"
      },
      "outputs": [
        {
          "data": {
            "text/html": [
              "<style>#sk-container-id-1 {color: black;background-color: white;}#sk-container-id-1 pre{padding: 0;}#sk-container-id-1 div.sk-toggleable {background-color: white;}#sk-container-id-1 label.sk-toggleable__label {cursor: pointer;display: block;width: 100%;margin-bottom: 0;padding: 0.3em;box-sizing: border-box;text-align: center;}#sk-container-id-1 label.sk-toggleable__label-arrow:before {content: \"▸\";float: left;margin-right: 0.25em;color: #696969;}#sk-container-id-1 label.sk-toggleable__label-arrow:hover:before {color: black;}#sk-container-id-1 div.sk-estimator:hover label.sk-toggleable__label-arrow:before {color: black;}#sk-container-id-1 div.sk-toggleable__content {max-height: 0;max-width: 0;overflow: hidden;text-align: left;background-color: #f0f8ff;}#sk-container-id-1 div.sk-toggleable__content pre {margin: 0.2em;color: black;border-radius: 0.25em;background-color: #f0f8ff;}#sk-container-id-1 input.sk-toggleable__control:checked~div.sk-toggleable__content {max-height: 200px;max-width: 100%;overflow: auto;}#sk-container-id-1 input.sk-toggleable__control:checked~label.sk-toggleable__label-arrow:before {content: \"▾\";}#sk-container-id-1 div.sk-estimator input.sk-toggleable__control:checked~label.sk-toggleable__label {background-color: #d4ebff;}#sk-container-id-1 div.sk-label input.sk-toggleable__control:checked~label.sk-toggleable__label {background-color: #d4ebff;}#sk-container-id-1 input.sk-hidden--visually {border: 0;clip: rect(1px 1px 1px 1px);clip: rect(1px, 1px, 1px, 1px);height: 1px;margin: -1px;overflow: hidden;padding: 0;position: absolute;width: 1px;}#sk-container-id-1 div.sk-estimator {font-family: monospace;background-color: #f0f8ff;border: 1px dotted black;border-radius: 0.25em;box-sizing: border-box;margin-bottom: 0.5em;}#sk-container-id-1 div.sk-estimator:hover {background-color: #d4ebff;}#sk-container-id-1 div.sk-parallel-item::after {content: \"\";width: 100%;border-bottom: 1px solid gray;flex-grow: 1;}#sk-container-id-1 div.sk-label:hover label.sk-toggleable__label {background-color: #d4ebff;}#sk-container-id-1 div.sk-serial::before {content: \"\";position: absolute;border-left: 1px solid gray;box-sizing: border-box;top: 0;bottom: 0;left: 50%;z-index: 0;}#sk-container-id-1 div.sk-serial {display: flex;flex-direction: column;align-items: center;background-color: white;padding-right: 0.2em;padding-left: 0.2em;position: relative;}#sk-container-id-1 div.sk-item {position: relative;z-index: 1;}#sk-container-id-1 div.sk-parallel {display: flex;align-items: stretch;justify-content: center;background-color: white;position: relative;}#sk-container-id-1 div.sk-item::before, #sk-container-id-1 div.sk-parallel-item::before {content: \"\";position: absolute;border-left: 1px solid gray;box-sizing: border-box;top: 0;bottom: 0;left: 50%;z-index: -1;}#sk-container-id-1 div.sk-parallel-item {display: flex;flex-direction: column;z-index: 1;position: relative;background-color: white;}#sk-container-id-1 div.sk-parallel-item:first-child::after {align-self: flex-end;width: 50%;}#sk-container-id-1 div.sk-parallel-item:last-child::after {align-self: flex-start;width: 50%;}#sk-container-id-1 div.sk-parallel-item:only-child::after {width: 0;}#sk-container-id-1 div.sk-dashed-wrapped {border: 1px dashed gray;margin: 0 0.4em 0.5em 0.4em;box-sizing: border-box;padding-bottom: 0.4em;background-color: white;}#sk-container-id-1 div.sk-label label {font-family: monospace;font-weight: bold;display: inline-block;line-height: 1.2em;}#sk-container-id-1 div.sk-label-container {text-align: center;}#sk-container-id-1 div.sk-container {/* jupyter's `normalize.less` sets `[hidden] { display: none; }` but bootstrap.min.css set `[hidden] { display: none !important; }` so we also need the `!important` here to be able to override the default hidden behavior on the sphinx rendered scikit-learn.org. See: https://github.com/scikit-learn/scikit-learn/issues/21755 */display: inline-block !important;position: relative;}#sk-container-id-1 div.sk-text-repr-fallback {display: none;}</style><div id=\"sk-container-id-1\" class=\"sk-top-container\"><div class=\"sk-text-repr-fallback\"><pre>XGBClassifier(base_score=None, booster=None, callbacks=None,\n",
              "              colsample_bylevel=None, colsample_bynode=None,\n",
              "              colsample_bytree=None, early_stopping_rounds=None,\n",
              "              enable_categorical=False, eval_metric=None, feature_types=None,\n",
              "              gamma=None, gpu_id=None, grow_policy=None, importance_type=None,\n",
              "              interaction_constraints=None, learning_rate=None, max_bin=None,\n",
              "              max_cat_threshold=None, max_cat_to_onehot=None,\n",
              "              max_delta_step=None, max_depth=None, max_leaves=None,\n",
              "              min_child_weight=None, missing=nan, monotone_constraints=None,\n",
              "              n_estimators=100, n_jobs=None, num_parallel_tree=None,\n",
              "              objective=&#x27;multi:softprob&#x27;, predictor=None, ...)</pre><b>In a Jupyter environment, please rerun this cell to show the HTML representation or trust the notebook. <br />On GitHub, the HTML representation is unable to render, please try loading this page with nbviewer.org.</b></div><div class=\"sk-container\" hidden><div class=\"sk-item\"><div class=\"sk-estimator sk-toggleable\"><input class=\"sk-toggleable__control sk-hidden--visually\" id=\"sk-estimator-id-1\" type=\"checkbox\" checked><label for=\"sk-estimator-id-1\" class=\"sk-toggleable__label sk-toggleable__label-arrow\">XGBClassifier</label><div class=\"sk-toggleable__content\"><pre>XGBClassifier(base_score=None, booster=None, callbacks=None,\n",
              "              colsample_bylevel=None, colsample_bynode=None,\n",
              "              colsample_bytree=None, early_stopping_rounds=None,\n",
              "              enable_categorical=False, eval_metric=None, feature_types=None,\n",
              "              gamma=None, gpu_id=None, grow_policy=None, importance_type=None,\n",
              "              interaction_constraints=None, learning_rate=None, max_bin=None,\n",
              "              max_cat_threshold=None, max_cat_to_onehot=None,\n",
              "              max_delta_step=None, max_depth=None, max_leaves=None,\n",
              "              min_child_weight=None, missing=nan, monotone_constraints=None,\n",
              "              n_estimators=100, n_jobs=None, num_parallel_tree=None,\n",
              "              objective=&#x27;multi:softprob&#x27;, predictor=None, ...)</pre></div></div></div></div></div>"
            ],
            "text/plain": [
              "XGBClassifier(base_score=None, booster=None, callbacks=None,\n",
              "              colsample_bylevel=None, colsample_bynode=None,\n",
              "              colsample_bytree=None, early_stopping_rounds=None,\n",
              "              enable_categorical=False, eval_metric=None, feature_types=None,\n",
              "              gamma=None, gpu_id=None, grow_policy=None, importance_type=None,\n",
              "              interaction_constraints=None, learning_rate=None, max_bin=None,\n",
              "              max_cat_threshold=None, max_cat_to_onehot=None,\n",
              "              max_delta_step=None, max_depth=None, max_leaves=None,\n",
              "              min_child_weight=None, missing=nan, monotone_constraints=None,\n",
              "              n_estimators=100, n_jobs=None, num_parallel_tree=None,\n",
              "              objective='multi:softprob', predictor=None, ...)"
            ]
          },
          "execution_count": 37,
          "metadata": {},
          "output_type": "execute_result"
        }
      ],
      "source": [
        "# Train the XGBoost model with the best parameters\n",
        "model2.fit(X_train2, y_train2)"
      ]
    },
    {
      "cell_type": "code",
      "execution_count": null,
      "metadata": {
        "id": "1dpDAOXhBQn3"
      },
      "outputs": [],
      "source": [
        "# Make predictions on the test set\n",
        "y_pred2 = model2.predict(X_test2)"
      ]
    },
    {
      "cell_type": "code",
      "execution_count": null,
      "metadata": {
        "colab": {
          "base_uri": "https://localhost:8080/"
        },
        "id": "Fj2CHjLYCFAi",
        "outputId": "70f8a963-f992-4ede-9a31-dfae38c6dbeb"
      },
      "outputs": [
        {
          "name": "stdout",
          "output_type": "stream",
          "text": [
            "Accuracy: 0.7900900900900901\n"
          ]
        }
      ],
      "source": [
        "# Evaluate the model\n",
        "accuracy = accuracy_score(y_test2, y_pred2)\n",
        "print(\"Accuracy:\", accuracy)"
      ]
    },
    {
      "cell_type": "code",
      "execution_count": null,
      "metadata": {
        "id": "ye2BEO2-CE9f"
      },
      "outputs": [],
      "source": []
    },
    {
      "cell_type": "code",
      "execution_count": null,
      "metadata": {
        "id": "zaw20CPMCE6L"
      },
      "outputs": [],
      "source": []
    },
    {
      "cell_type": "code",
      "execution_count": null,
      "metadata": {
        "id": "hVGodktpCEwi"
      },
      "outputs": [],
      "source": []
    }
  ],
  "metadata": {
    "colab": {
      "provenance": []
    },
    "kernelspec": {
      "display_name": "Python 3",
      "language": "python",
      "name": "python3"
    },
    "language_info": {
      "codemirror_mode": {
        "name": "ipython",
        "version": 3
      },
      "file_extension": ".py",
      "mimetype": "text/x-python",
      "name": "python",
      "nbconvert_exporter": "python",
      "pygments_lexer": "ipython3",
      "version": "3.11.1"
    }
  },
  "nbformat": 4,
  "nbformat_minor": 0
}